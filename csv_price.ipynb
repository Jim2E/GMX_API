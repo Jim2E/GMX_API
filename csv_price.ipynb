{
 "cells": [
  {
   "cell_type": "code",
   "execution_count": 1,
   "metadata": {},
   "outputs": [],
   "source": [
    "import pandas as pd\n",
    "from datetime import timedelta\n",
    "import requests\n",
    "import json\n",
    "import time\n",
    "from datetime import datetime\n",
    "from urllib.request import urlopen\n",
    "import csv\n",
    "import numpy as np\n",
    "import plotly.graph_objects as go\n",
    "\n",
    "ETH = '0x82aF49447D8a07e3bd95BD0d56f35241523fBab1'\n",
    "WBTC = '0x2f2a2543B76A4166549F7aaB2e75Bef0aefC5B0f'\n",
    "LINK = '0xf97f4df75117a78c1A5a0DBb814Af92458539FB4'\n",
    "UNI = '0xFa7F8980b0f1E64A2062791cc3b0871572f1F7f0'\n",
    "\n",
    "coins = {ETH:'ETH/USD',WBTC:'WBTC/USD'} #maybe include LINK actually for pnds\n",
    "wbtc_data = []\n",
    "eth_data = []\n",
    "today_date = datetime.now().strftime(\"%m/%d/%Y\")\n",
    "\n",
    "def price_format(x):\n",
    "    return int(x)/10**30\n",
    "\n",
    "def included_coins(x):\n",
    "    return True if x in coins else False\n",
    "\n",
    "prices_url = \"https://api.gmx.io/prices\"\n",
    "response = urlopen(prices_url) # store the response of URL \n",
    "prices_json = json.loads(response.read()) # storing the JSON response\n",
    "# prices_json -> dict : {'addy':'price * 10**30}\n",
    "\n",
    "def get_prices():\n",
    "    response = urlopen(prices_url) # store the response of URL \n",
    "    prices_json = json.loads(response.read()) # storing the JSON response\n",
    "    return prices_json\n",
    "\n",
    "def time_price_data():\n",
    "    \n",
    "    p_json = get_prices()\n",
    "    now = datetime.now()\n",
    "    current_time = now.strftime(\"%I:%M:%S\")\n",
    "    print(\"Time:\", current_time)\n",
    "    \n",
    "    for addy in p_json:\n",
    "        if addy in coins:\n",
    "            # print(coins[addy],price_format(p_json[addy]))\n",
    "\n",
    "            if coins[addy] == 'WBTC/USD':\n",
    "                wbtc_data.append([today_date,current_time,'WBTC/USD',price_format(p_json[addy])])\n",
    "            if coins[addy] == 'ETH/USD':\n",
    "                eth_data.append([today_date,current_time,'ETH/USD',price_format(p_json[addy])])\n",
    "    return"
   ]
  },
  {
   "cell_type": "code",
   "execution_count": 3,
   "metadata": {},
   "outputs": [
    {
     "name": "stdout",
     "output_type": "stream",
     "text": [
      "Time: 10:32:46\n",
      "Time: 10:32:47\n",
      "Time: 10:32:48\n",
      "Time: 10:32:49\n",
      "Time: 10:32:50\n",
      "Time: 10:32:51\n",
      "Time: 10:32:53\n",
      "Time: 10:32:54\n",
      "Time: 10:32:55\n",
      "Time: 10:32:56\n",
      "Time: 10:32:57\n",
      "Time: 10:32:58\n",
      "Time: 10:32:59\n",
      "Time: 10:33:01\n",
      "Time: 10:33:02\n",
      "Time: 10:33:03\n",
      "Time: 10:33:04\n",
      "Time: 10:33:05\n",
      "Time: 10:33:06\n",
      "Time: 10:33:07\n",
      "Time: 10:33:08\n",
      "Time: 10:33:09\n",
      "Time: 10:33:10\n",
      "Time: 10:33:11\n",
      "Time: 10:33:12\n",
      "Time: 10:33:13\n",
      "Time: 10:33:15\n",
      "Time: 10:33:15\n",
      "Time: 10:33:17\n",
      "Time: 10:33:18\n",
      "Time: 10:33:19\n",
      "Time: 10:33:20\n",
      "Time: 10:33:21\n",
      "Time: 10:33:22\n",
      "Time: 10:33:24\n",
      "Time: 10:33:25\n",
      "Time: 10:33:26\n",
      "Time: 10:33:27\n",
      "Time: 10:33:28\n",
      "Time: 10:33:29\n",
      "Time: 10:33:30\n",
      "Time: 10:33:32\n",
      "Time: 10:33:32\n",
      "Time: 10:33:33\n",
      "Time: 10:33:34\n",
      "Time: 10:33:36\n",
      "Time: 10:33:37\n",
      "Time: 10:33:38\n",
      "Time: 10:33:39\n",
      "Time: 10:33:40\n",
      "Time: 10:33:42\n",
      "Time: 10:33:43\n",
      "Time: 10:33:44\n",
      "Time: 10:33:45\n",
      "Time: 10:33:46\n",
      "Time: 10:33:47\n",
      "Time: 10:33:48\n",
      "Time: 10:33:49\n",
      "Time: 10:33:51\n",
      "Time: 10:33:52\n",
      "Time: 10:33:53\n",
      "Time: 10:33:54\n",
      "Time: 10:33:55\n",
      "Time: 10:33:56\n",
      "Time: 10:33:57\n",
      "Time: 10:33:58\n",
      "Time: 10:33:59\n",
      "Time: 10:34:00\n",
      "Time: 10:34:01\n",
      "Time: 10:34:03\n",
      "Time: 10:34:04\n",
      "Time: 10:34:05\n",
      "Time: 10:34:06\n",
      "Time: 10:34:07\n",
      "Time: 10:34:08\n",
      "Time: 10:34:10\n",
      "Time: 10:34:11\n",
      "Time: 10:34:12\n",
      "Time: 10:34:13\n",
      "Time: 10:34:14\n",
      "Time: 10:34:15\n",
      "Time: 10:34:16\n",
      "Time: 10:34:18\n",
      "Time: 10:34:18\n",
      "Time: 10:34:19\n",
      "Time: 10:34:20\n",
      "Time: 10:34:22\n",
      "Time: 10:34:23\n",
      "Time: 10:34:24\n",
      "Time: 10:34:25\n",
      "Time: 10:34:26\n",
      "Time: 10:34:27\n",
      "Time: 10:34:28\n",
      "Time: 10:34:29\n",
      "Time: 10:34:30\n",
      "Time: 10:34:31\n",
      "Time: 10:34:33\n",
      "Time: 10:34:33\n",
      "Time: 10:34:34\n",
      "Time: 10:34:36\n",
      "Time: 10:34:37\n",
      "Time: 10:34:38\n",
      "Time: 10:34:39\n",
      "Time: 10:34:40\n",
      "Time: 10:34:41\n",
      "Time: 10:34:42\n",
      "Time: 10:34:43\n",
      "Time: 10:34:45\n",
      "Time: 10:34:46\n",
      "Time: 10:34:47\n",
      "Time: 10:34:48\n",
      "Time: 10:34:49\n",
      "Time: 10:34:50\n",
      "Time: 10:34:51\n",
      "Time: 10:34:52\n",
      "Time: 10:34:54\n",
      "Time: 10:34:55\n",
      "Time: 10:34:56\n",
      "Time: 10:34:57\n",
      "Time: 10:34:58\n",
      "Time: 10:35:00\n",
      "Time: 10:35:01\n",
      "Time: 10:35:02\n",
      "Time: 10:35:03\n",
      "Time: 10:35:04\n",
      "Time: 10:35:05\n",
      "Time: 10:35:06\n",
      "Time: 10:35:08\n",
      "Time: 10:35:09\n",
      "Time: 10:35:10\n",
      "Time: 10:35:11\n",
      "Time: 10:35:12\n",
      "Time: 10:35:13\n",
      "Time: 10:35:14\n",
      "Time: 10:35:14\n",
      "Time: 10:35:16\n",
      "Time: 10:35:17\n",
      "Time: 10:35:18\n",
      "Time: 10:35:19\n",
      "Time: 10:35:20\n",
      "Time: 10:35:21\n",
      "Time: 10:35:22\n",
      "Time: 10:35:23\n",
      "Time: 10:35:25\n",
      "Time: 10:35:26\n",
      "Time: 10:35:27\n",
      "Time: 10:35:28\n",
      "Time: 10:35:29\n",
      "Time: 10:35:30\n",
      "Time: 10:35:32\n",
      "Time: 10:35:33\n",
      "Time: 10:35:34\n",
      "Time: 10:35:36\n",
      "Time: 10:35:37\n",
      "Time: 10:35:38\n",
      "Time: 10:35:39\n",
      "Time: 10:35:40\n",
      "Time: 10:35:41\n",
      "Time: 10:35:42\n",
      "Time: 10:35:43\n",
      "Time: 10:35:44\n",
      "Time: 10:35:45\n",
      "Time: 10:35:47\n",
      "Time: 10:35:48\n",
      "Time: 10:35:49\n",
      "Time: 10:35:50\n",
      "Time: 10:35:51\n",
      "Time: 10:35:52\n",
      "Time: 10:35:53\n",
      "Time: 10:35:55\n",
      "Time: 10:35:56\n",
      "Time: 10:35:57\n",
      "Time: 10:35:58\n",
      "Time: 10:35:59\n",
      "Time: 10:36:00\n",
      "Time: 10:36:01\n",
      "Time: 10:36:02\n",
      "Time: 10:36:04\n",
      "Time: 10:36:05\n",
      "Time: 10:36:06\n",
      "Time: 10:36:07\n",
      "Time: 10:36:08\n",
      "Time: 10:36:09\n",
      "Time: 10:36:10\n",
      "Time: 10:36:11\n",
      "Time: 10:36:12\n",
      "Time: 10:36:13\n",
      "Time: 10:36:15\n",
      "Time: 10:36:16\n",
      "Time: 10:36:17\n",
      "Time: 10:36:18\n",
      "Time: 10:36:19\n",
      "Time: 10:36:20\n",
      "Time: 10:36:21\n",
      "Time: 10:36:22\n",
      "Time: 10:36:23\n",
      "Time: 10:36:24\n",
      "Time: 10:36:25\n",
      "Time: 10:36:26\n",
      "Time: 10:36:27\n",
      "Time: 10:36:29\n",
      "Time: 10:36:30\n",
      "Time: 10:36:31\n",
      "Time: 10:36:32\n",
      "Time: 10:36:33\n",
      "Time: 10:36:35\n",
      "Time: 10:36:36\n",
      "Time: 10:36:37\n",
      "Time: 10:36:38\n",
      "Time: 10:36:39\n",
      "Time: 10:36:40\n",
      "Time: 10:36:41\n",
      "Time: 10:36:43\n",
      "Time: 10:36:44\n",
      "Time: 10:36:45\n",
      "Time: 10:36:46\n",
      "Time: 10:36:46\n",
      "Time: 10:36:48\n",
      "Time: 10:36:48\n",
      "Time: 10:36:50\n",
      "Time: 10:36:51\n",
      "Time: 10:36:52\n",
      "Time: 10:36:53\n",
      "Time: 10:36:54\n",
      "Time: 10:36:55\n",
      "Time: 10:36:56\n",
      "Time: 10:36:57\n",
      "Time: 10:36:58\n",
      "Time: 10:37:00\n",
      "Time: 10:37:01\n",
      "Time: 10:37:02\n",
      "Time: 10:37:03\n",
      "Time: 10:37:04\n",
      "Time: 10:37:05\n",
      "Time: 10:37:06\n",
      "Time: 10:37:07\n",
      "Time: 10:37:09\n",
      "Time: 10:37:10\n",
      "Time: 10:37:11\n",
      "Time: 10:37:12\n",
      "Time: 10:37:13\n",
      "Time: 10:37:14\n",
      "Time: 10:37:15\n",
      "Time: 10:37:16\n",
      "Time: 10:37:17\n",
      "Time: 10:37:19\n",
      "Time: 10:37:20\n",
      "Time: 10:37:21\n",
      "Time: 10:37:22\n",
      "Time: 10:37:23\n",
      "Time: 10:37:24\n",
      "Time: 10:37:26\n",
      "Time: 10:37:27\n",
      "Time: 10:37:28\n",
      "Time: 10:37:29\n",
      "Time: 10:37:30\n",
      "Time: 10:37:31\n",
      "Time: 10:37:32\n",
      "Time: 10:37:33\n",
      "Time: 10:37:34\n",
      "Time: 10:37:36\n",
      "Time: 10:37:37\n",
      "Time: 10:37:38\n",
      "Time: 10:37:39\n",
      "Time: 10:37:40\n",
      "Time: 10:37:41\n",
      "Time: 10:37:42\n",
      "Time: 10:37:43\n",
      "Time: 10:37:44\n",
      "Time: 10:37:45\n",
      "Time: 10:37:47\n",
      "Time: 10:37:48\n",
      "Time: 10:37:48\n",
      "Time: 10:37:49\n",
      "Time: 10:37:50\n",
      "Time: 10:37:51\n",
      "Time: 10:37:52\n",
      "Time: 10:37:53\n",
      "Time: 10:37:55\n",
      "Time: 10:37:56\n",
      "Time: 10:37:57\n",
      "Time: 10:37:58\n",
      "Time: 10:38:00\n",
      "Time: 10:38:01\n",
      "Time: 10:38:02\n",
      "Time: 10:38:03\n",
      "Time: 10:38:05\n",
      "Time: 10:38:06\n",
      "Time: 10:38:07\n",
      "Time: 10:38:08\n",
      "Time: 10:38:09\n",
      "Time: 10:38:10\n",
      "Time: 10:38:11\n",
      "Time: 10:38:12\n",
      "Time: 10:38:13\n",
      "Time: 10:38:14\n",
      "Time: 10:38:15\n",
      "Time: 10:38:16\n",
      "Time: 10:38:17\n",
      "Time: 10:38:18\n",
      "Time: 10:38:20\n",
      "Time: 10:38:20\n",
      "Time: 10:38:22\n",
      "Time: 10:38:23\n",
      "Time: 10:38:24\n",
      "Time: 10:38:25\n",
      "Time: 10:38:27\n",
      "Time: 10:38:28\n",
      "Time: 10:38:29\n",
      "Time: 10:38:30\n",
      "Time: 10:38:31\n",
      "Time: 10:38:32\n",
      "Time: 10:38:33\n",
      "Time: 10:38:34\n",
      "Time: 10:38:35\n",
      "Time: 10:38:37\n",
      "Time: 10:38:37\n",
      "Time: 10:38:38\n",
      "Time: 10:38:40\n",
      "Time: 10:38:41\n",
      "Time: 10:38:42\n",
      "Time: 10:38:43\n",
      "Time: 10:38:44\n",
      "Time: 10:38:45\n",
      "Time: 10:38:46\n",
      "Time: 10:38:47\n",
      "Time: 10:38:48\n",
      "Time: 10:38:49\n",
      "Time: 10:38:50\n",
      "Time: 10:38:51\n",
      "Time: 10:38:52\n",
      "Time: 10:38:53\n",
      "Time: 10:38:54\n",
      "Time: 10:38:55\n",
      "Time: 10:38:56\n",
      "Time: 10:38:58\n",
      "Time: 10:38:59\n",
      "Time: 10:39:00\n",
      "Time: 10:39:01\n",
      "Time: 10:39:02\n",
      "Time: 10:39:03\n",
      "Time: 10:39:04\n",
      "Time: 10:39:05\n",
      "Time: 10:39:06\n",
      "Time: 10:39:07\n",
      "Time: 10:39:08\n",
      "Time: 10:39:10\n",
      "Time: 10:39:11\n",
      "Time: 10:39:12\n",
      "Time: 10:39:13\n",
      "Time: 10:39:14\n",
      "Time: 10:39:15\n",
      "Time: 10:39:16\n",
      "Time: 10:39:18\n",
      "Time: 10:39:18\n",
      "Time: 10:39:19\n",
      "Time: 10:39:20\n",
      "Time: 10:39:22\n",
      "Time: 10:39:23\n",
      "Time: 10:39:24\n",
      "Time: 10:39:25\n",
      "Time: 10:39:26\n",
      "Time: 10:39:27\n",
      "Time: 10:39:29\n",
      "Time: 10:39:30\n",
      "Time: 10:39:31\n",
      "Time: 10:39:32\n",
      "Time: 10:39:33\n",
      "Time: 10:39:34\n",
      "Time: 10:39:36\n",
      "Time: 10:39:37\n",
      "Time: 10:39:38\n",
      "Time: 10:39:39\n",
      "Time: 10:39:40\n",
      "Time: 10:39:42\n",
      "Time: 10:39:44\n",
      "Time: 10:39:45\n",
      "Time: 10:39:46\n",
      "Time: 10:39:47\n",
      "Time: 10:39:48\n",
      "Time: 10:39:49\n",
      "Time: 10:39:51\n",
      "Time: 10:39:52\n",
      "Time: 10:39:53\n",
      "Time: 10:39:54\n",
      "Time: 10:39:55\n",
      "Time: 10:39:56\n",
      "Time: 10:39:57\n",
      "Time: 10:39:59\n",
      "Time: 10:40:00\n",
      "Time: 10:40:01\n",
      "Time: 10:40:02\n",
      "Time: 10:40:03\n",
      "Time: 10:40:05\n",
      "Time: 10:40:06\n",
      "Time: 10:40:07\n",
      "Time: 10:40:08\n",
      "Time: 10:40:09\n",
      "Time: 10:40:10\n",
      "Time: 10:40:11\n",
      "Time: 10:40:12\n",
      "Time: 10:40:13\n",
      "Time: 10:40:14\n",
      "Time: 10:40:15\n",
      "Time: 10:40:16\n",
      "Time: 10:40:18\n",
      "Time: 10:40:19\n",
      "Time: 10:40:20\n",
      "Time: 10:40:21\n",
      "Time: 10:40:22\n",
      "Time: 10:40:23\n",
      "Time: 10:40:24\n",
      "Time: 10:40:25\n",
      "Time: 10:40:26\n",
      "Time: 10:40:27\n",
      "Time: 10:40:28\n",
      "Time: 10:40:29\n",
      "Time: 10:40:30\n",
      "Time: 10:40:31\n",
      "Time: 10:40:32\n",
      "Time: 10:40:34\n",
      "Time: 10:40:35\n",
      "Time: 10:40:36\n",
      "Time: 10:40:37\n",
      "Time: 10:40:38\n",
      "Time: 10:40:39\n",
      "Time: 10:40:41\n",
      "Time: 10:40:42\n",
      "Time: 10:40:45\n",
      "Time: 10:40:46\n",
      "Time: 10:40:47\n",
      "Time: 10:40:47\n",
      "Time: 10:40:49\n",
      "Time: 10:40:50\n",
      "Time: 10:40:51\n",
      "Time: 10:40:52\n",
      "Time: 10:40:53\n",
      "Time: 10:40:55\n",
      "Time: 10:40:56\n",
      "Time: 10:40:57\n",
      "Time: 10:40:58\n",
      "Time: 10:40:59\n",
      "Time: 10:41:00\n",
      "Time: 10:41:02\n",
      "Time: 10:41:03\n",
      "Time: 10:41:04\n",
      "Time: 10:41:05\n",
      "Time: 10:41:06\n",
      "Time: 10:41:08\n",
      "Time: 10:41:09\n",
      "Time: 10:41:10\n",
      "Time: 10:41:11\n",
      "Time: 10:41:12\n",
      "Time: 10:41:14\n",
      "Time: 10:41:15\n",
      "Time: 10:41:16\n",
      "Time: 10:41:17\n",
      "Time: 10:41:18\n",
      "Time: 10:41:19\n",
      "Time: 10:41:20\n",
      "Time: 10:41:21\n",
      "Time: 10:41:22\n",
      "Time: 10:41:23\n",
      "Time: 10:41:24\n",
      "Time: 10:41:26\n",
      "Time: 10:41:27\n",
      "Time: 10:41:28\n",
      "Time: 10:41:29\n",
      "Time: 10:41:30\n",
      "Time: 10:41:31\n",
      "Time: 10:41:33\n",
      "Time: 10:41:34\n",
      "Time: 10:41:35\n",
      "Time: 10:41:36\n",
      "Time: 10:41:37\n",
      "Time: 10:41:39\n",
      "Time: 10:41:40\n",
      "Time: 10:41:41\n",
      "Time: 10:41:42\n",
      "Time: 10:41:44\n",
      "Time: 10:41:45\n",
      "Time: 10:41:46\n",
      "Time: 10:41:47\n",
      "Time: 10:41:48\n",
      "Time: 10:41:50\n",
      "Time: 10:41:51\n",
      "Time: 10:41:52\n",
      "Time: 10:41:53\n",
      "Time: 10:41:55\n",
      "Time: 10:41:56\n",
      "Time: 10:41:57\n",
      "Time: 10:41:58\n",
      "Time: 10:41:59\n",
      "Time: 10:41:59\n",
      "Time: 10:42:00\n",
      "Time: 10:42:02\n",
      "Time: 10:42:03\n",
      "Time: 10:42:04\n",
      "Time: 10:42:05\n",
      "Time: 10:42:06\n",
      "Time: 10:42:07\n",
      "Time: 10:42:08\n",
      "Time: 10:42:09\n",
      "Time: 10:42:10\n",
      "Time: 10:42:11\n",
      "Time: 10:42:12\n",
      "Time: 10:42:13\n",
      "Time: 10:42:15\n",
      "Time: 10:42:16\n",
      "Time: 10:42:17\n",
      "Time: 10:42:18\n",
      "Time: 10:42:19\n",
      "Time: 10:42:20\n",
      "Time: 10:42:22\n",
      "Time: 10:42:22\n",
      "Time: 10:42:24\n",
      "Time: 10:42:25\n",
      "Time: 10:42:26\n",
      "Time: 10:42:27\n",
      "Time: 10:42:28\n",
      "Time: 10:42:29\n",
      "Time: 10:42:30\n",
      "Time: 10:42:31\n",
      "Time: 10:42:32\n",
      "Time: 10:42:33\n",
      "Time: 10:42:34\n",
      "Time: 10:42:35\n",
      "Time: 10:42:36\n",
      "Time: 10:42:37\n",
      "Time: 10:42:38\n",
      "Time: 10:42:39\n",
      "Time: 10:42:43\n",
      "Time: 10:42:45\n",
      "Time: 10:42:46\n",
      "Time: 10:42:47\n",
      "Time: 10:42:48\n",
      "Time: 10:42:49\n",
      "Time: 10:42:50\n",
      "Time: 10:42:51\n",
      "Time: 10:42:52\n",
      "Time: 10:42:53\n",
      "Time: 10:42:54\n",
      "Time: 10:42:55\n",
      "Time: 10:42:57\n",
      "Time: 10:42:58\n",
      "Time: 10:42:59\n",
      "Time: 10:43:00\n",
      "Time: 10:43:01\n",
      "Time: 10:43:02\n",
      "Time: 10:43:03\n",
      "Time: 10:43:04\n",
      "Time: 10:43:05\n",
      "Time: 10:43:06\n",
      "Time: 10:43:08\n",
      "Time: 10:43:08\n",
      "Time: 10:43:10\n",
      "Time: 10:43:10\n",
      "Time: 10:43:12\n",
      "Time: 10:43:13\n",
      "Time: 10:43:14\n",
      "Time: 10:43:15\n",
      "Time: 10:43:16\n",
      "Time: 10:43:17\n",
      "Time: 10:43:18\n",
      "Time: 10:43:19\n",
      "Time: 10:43:20\n",
      "Time: 10:43:21\n",
      "Time: 10:43:22\n",
      "Time: 10:43:23\n",
      "Time: 10:43:24\n",
      "Time: 10:43:26\n",
      "Time: 10:43:27\n",
      "Time: 10:43:28\n",
      "Time: 10:43:29\n",
      "Time: 10:43:30\n",
      "Time: 10:43:31\n",
      "Time: 10:43:33\n",
      "Time: 10:43:34\n",
      "Time: 10:43:35\n",
      "Time: 10:43:36\n",
      "Time: 10:43:37\n",
      "Time: 10:43:38\n",
      "Time: 10:43:39\n",
      "Time: 10:43:40\n",
      "Time: 10:43:41\n",
      "Time: 10:43:42\n",
      "Time: 10:43:43\n",
      "Time: 10:43:45\n",
      "Time: 10:43:46\n",
      "Time: 10:43:47\n",
      "Time: 10:43:48\n",
      "Time: 10:43:49\n",
      "Time: 10:43:50\n",
      "Time: 10:43:51\n",
      "Time: 10:43:52\n",
      "Time: 10:43:53\n",
      "Time: 10:43:54\n",
      "Time: 10:43:56\n",
      "Time: 10:43:57\n",
      "Time: 10:43:57\n",
      "Time: 10:43:59\n",
      "Time: 10:44:00\n",
      "Time: 10:44:01\n",
      "Time: 10:44:02\n",
      "Time: 10:44:03\n",
      "Time: 10:44:04\n",
      "Time: 10:44:05\n",
      "Time: 10:44:06\n",
      "Time: 10:44:07\n",
      "Time: 10:44:08\n",
      "Time: 10:44:10\n",
      "Time: 10:44:11\n",
      "Time: 10:44:12\n",
      "Time: 10:44:13\n",
      "Time: 10:44:14\n",
      "Time: 10:44:15\n",
      "Time: 10:44:16\n",
      "Time: 10:44:17\n",
      "Time: 10:44:18\n",
      "Time: 10:44:19\n",
      "Time: 10:44:20\n",
      "Time: 10:44:21\n",
      "Time: 10:44:23\n",
      "Time: 10:44:24\n",
      "Time: 10:44:25\n",
      "Time: 10:44:26\n",
      "Time: 10:44:27\n",
      "Time: 10:44:27\n",
      "Time: 10:44:29\n",
      "Time: 10:44:30\n",
      "Time: 10:44:31\n",
      "Time: 10:44:32\n",
      "Time: 10:44:33\n",
      "Time: 10:44:35\n",
      "Time: 10:44:36\n",
      "Time: 10:44:37\n",
      "Time: 10:44:38\n",
      "Time: 10:44:39\n",
      "Time: 10:44:40\n",
      "Time: 10:44:41\n",
      "Time: 10:44:42\n",
      "Time: 10:44:44\n",
      "Time: 10:44:45\n",
      "Time: 10:44:46\n",
      "Time: 10:44:47\n",
      "Time: 10:44:48\n",
      "Time: 10:44:49\n",
      "Time: 10:44:51\n",
      "Time: 10:44:52\n",
      "Time: 10:44:53\n",
      "Time: 10:44:54\n",
      "Time: 10:44:55\n",
      "Time: 10:44:56\n",
      "Time: 10:44:57\n",
      "Time: 10:44:58\n",
      "Time: 10:44:59\n",
      "Time: 10:45:00\n",
      "Time: 10:45:02\n",
      "Time: 10:45:03\n",
      "Time: 10:45:04\n",
      "Time: 10:45:05\n",
      "Time: 10:45:06\n",
      "Time: 10:45:07\n",
      "Time: 10:45:08\n",
      "Time: 10:45:09\n",
      "Time: 10:45:10\n",
      "Time: 10:45:11\n",
      "Time: 10:45:12\n",
      "Time: 10:45:13\n",
      "Time: 10:45:14\n",
      "Time: 10:45:15\n",
      "Time: 10:45:16\n",
      "Time: 10:45:17\n",
      "Time: 10:45:18\n",
      "Time: 10:45:19\n",
      "Time: 10:45:20\n",
      "Time: 10:45:21\n",
      "Time: 10:45:22\n",
      "Time: 10:45:23\n",
      "Time: 10:45:24\n",
      "Time: 10:45:25\n",
      "Time: 10:45:26\n",
      "Time: 10:45:27\n",
      "Time: 10:45:28\n",
      "Time: 10:45:29\n",
      "Time: 10:45:30\n",
      "Time: 10:45:32\n",
      "Time: 10:45:33\n",
      "Time: 10:45:34\n",
      "Time: 10:45:35\n",
      "Time: 10:45:36\n",
      "Time: 10:45:37\n",
      "Time: 10:45:38\n",
      "Time: 10:45:39\n",
      "Time: 10:45:40\n",
      "Time: 10:45:41\n",
      "Time: 10:45:43\n",
      "Time: 10:45:44\n",
      "Time: 10:45:45\n",
      "Time: 10:45:46\n",
      "Time: 10:45:48\n",
      "Time: 10:45:49\n",
      "Time: 10:45:50\n",
      "Time: 10:45:51\n",
      "Time: 10:45:52\n",
      "Time: 10:45:53\n",
      "Time: 10:45:54\n",
      "Time: 10:45:55\n",
      "Time: 10:45:56\n",
      "Time: 10:45:57\n",
      "Time: 10:45:58\n",
      "Time: 10:46:00\n",
      "Time: 10:46:01\n",
      "Time: 10:46:02\n",
      "Time: 10:46:03\n",
      "Time: 10:46:04\n",
      "Time: 10:46:05\n",
      "Time: 10:46:06\n",
      "Time: 10:46:07\n",
      "Time: 10:46:08\n",
      "Time: 10:46:09\n",
      "Time: 10:46:10\n",
      "Time: 10:46:11\n",
      "Time: 10:46:12\n",
      "Time: 10:46:14\n",
      "Time: 10:46:15\n",
      "Time: 10:46:16\n",
      "Time: 10:46:16\n",
      "Time: 10:46:17\n",
      "Time: 10:46:19\n",
      "Time: 10:46:20\n",
      "Time: 10:46:21\n",
      "Time: 10:46:22\n",
      "Time: 10:46:23\n",
      "Time: 10:46:25\n",
      "Time: 10:46:26\n",
      "Time: 10:46:27\n",
      "Time: 10:46:28\n",
      "Time: 10:46:29\n",
      "Time: 10:46:30\n",
      "Time: 10:46:31\n",
      "Time: 10:46:32\n",
      "Time: 10:46:34\n",
      "Time: 10:46:35\n",
      "Time: 10:46:36\n",
      "Time: 10:46:37\n",
      "Time: 10:46:38\n",
      "Time: 10:46:40\n",
      "Time: 10:46:41\n",
      "Time: 10:46:42\n",
      "Time: 10:46:43\n",
      "Time: 10:46:44\n",
      "Time: 10:46:45\n",
      "Time: 10:46:46\n",
      "Time: 10:46:47\n",
      "Time: 10:46:48\n",
      "Time: 10:46:49\n",
      "Time: 10:46:51\n",
      "Time: 10:46:52\n",
      "Time: 10:46:53\n",
      "Time: 10:46:54\n",
      "Time: 10:46:56\n",
      "Time: 10:46:57\n",
      "Time: 10:46:58\n",
      "Time: 10:46:59\n",
      "Time: 10:47:00\n",
      "Time: 10:47:01\n",
      "Time: 10:47:03\n",
      "Time: 10:47:03\n",
      "Time: 10:47:04\n",
      "Time: 10:47:05\n",
      "Time: 10:47:06\n",
      "Time: 10:47:07\n",
      "Time: 10:47:08\n",
      "Time: 10:47:10\n",
      "Time: 10:47:11\n",
      "Time: 10:47:12\n",
      "Time: 10:47:14\n",
      "Time: 10:47:14\n",
      "Time: 10:47:15\n",
      "Time: 10:47:16\n",
      "Time: 10:47:17\n",
      "Time: 10:47:18\n",
      "Time: 10:47:19\n",
      "Time: 10:47:21\n",
      "Time: 10:47:21\n",
      "Time: 10:47:22\n",
      "Time: 10:47:23\n",
      "Time: 10:47:24\n",
      "Time: 10:47:25\n",
      "Time: 10:47:27\n",
      "Time: 10:47:28\n",
      "Time: 10:47:29\n",
      "Time: 10:47:30\n",
      "Time: 10:47:31\n",
      "Time: 10:47:32\n",
      "Time: 10:47:33\n",
      "Time: 10:47:34\n",
      "Time: 10:47:35\n",
      "Time: 10:47:37\n",
      "Time: 10:47:38\n",
      "Time: 10:47:39\n",
      "Time: 10:47:40\n",
      "Time: 10:47:41\n",
      "Time: 10:47:42\n",
      "Time: 10:47:43\n",
      "Time: 10:47:45\n",
      "Time: 10:47:46\n",
      "Time: 10:47:47\n",
      "Time: 10:47:48\n",
      "Time: 10:47:49\n",
      "Time: 10:47:50\n",
      "Time: 10:47:51\n",
      "Time: 10:47:53\n",
      "Time: 10:47:54\n",
      "Time: 10:47:55\n",
      "Time: 10:47:56\n",
      "Time: 10:47:57\n",
      "Time: 10:47:59\n",
      "Time: 10:48:00\n",
      "Time: 10:48:01\n",
      "Time: 10:48:02\n",
      "Time: 10:48:03\n",
      "Time: 10:48:04\n",
      "Time: 10:48:05\n",
      "Time: 10:48:06\n",
      "Time: 10:48:07\n",
      "Time: 10:48:08\n",
      "Time: 10:48:09\n",
      "Time: 10:48:10\n",
      "Time: 10:48:11\n",
      "Time: 10:48:12\n",
      "Time: 10:48:14\n",
      "Time: 10:48:15\n",
      "Time: 10:48:16\n",
      "Time: 10:48:17\n",
      "Time: 10:48:18\n",
      "Time: 10:48:19\n",
      "Time: 10:48:20\n",
      "Time: 10:48:21\n",
      "Time: 10:48:22\n",
      "Time: 10:48:23\n",
      "Time: 10:48:24\n",
      "Time: 10:48:26\n",
      "Time: 10:48:27\n",
      "Time: 10:48:28\n",
      "Time: 10:48:29\n",
      "Time: 10:48:30\n",
      "Time: 10:48:31\n",
      "Time: 10:48:32\n",
      "Time: 10:48:33\n",
      "Time: 10:48:34\n",
      "Time: 10:48:36\n",
      "Time: 10:48:37\n",
      "Time: 10:48:38\n",
      "Time: 10:48:39\n",
      "Time: 10:48:40\n",
      "Time: 10:48:41\n",
      "Time: 10:48:42\n",
      "Time: 10:48:43\n",
      "Time: 10:48:44\n",
      "Time: 10:48:45\n",
      "Time: 10:48:46\n",
      "Time: 10:48:47\n",
      "Time: 10:48:48\n",
      "Time: 10:48:49\n",
      "Time: 10:48:51\n",
      "Time: 10:48:52\n",
      "Time: 10:48:53\n",
      "Time: 10:48:54\n",
      "Time: 10:48:55\n",
      "Time: 10:48:56\n",
      "Time: 10:48:57\n",
      "Time: 10:48:58\n",
      "Time: 10:48:59\n",
      "Time: 10:49:01\n",
      "Time: 10:49:02\n",
      "Time: 10:49:03\n",
      "Time: 10:49:04\n",
      "Time: 10:49:05\n",
      "Time: 10:49:07\n",
      "Time: 10:49:08\n",
      "Time: 10:49:09\n",
      "Time: 10:49:10\n",
      "Time: 10:49:11\n",
      "Time: 10:49:12\n",
      "Time: 10:49:13\n",
      "Time: 10:49:14\n",
      "Time: 10:49:15\n",
      "Time: 10:49:16\n",
      "Time: 10:49:17\n",
      "Time: 10:49:18\n",
      "Time: 10:49:19\n",
      "Time: 10:49:20\n",
      "Time: 10:49:21\n",
      "Time: 10:49:22\n",
      "Time: 10:49:23\n",
      "Time: 10:49:24\n",
      "Time: 10:49:25\n",
      "Time: 10:49:26\n",
      "Time: 10:49:26\n",
      "Time: 10:49:27\n",
      "Time: 10:49:28\n",
      "Time: 10:49:30\n",
      "Time: 10:49:31\n",
      "Time: 10:49:32\n",
      "Time: 10:49:33\n",
      "Time: 10:49:34\n",
      "Time: 10:49:38\n",
      "Time: 10:49:40\n",
      "Time: 10:49:41\n",
      "Time: 10:49:42\n",
      "Time: 10:49:43\n",
      "Time: 10:49:44\n",
      "Time: 10:49:45\n",
      "Time: 10:49:46\n",
      "Time: 10:49:47\n",
      "Time: 10:49:49\n",
      "Time: 10:49:50\n",
      "Time: 10:49:50\n",
      "Time: 10:49:52\n",
      "Time: 10:49:53\n",
      "Time: 10:49:54\n",
      "Time: 10:49:55\n",
      "Time: 10:49:56\n",
      "Time: 10:49:57\n",
      "Time: 10:49:58\n",
      "Time: 10:49:59\n",
      "Time: 10:50:00\n",
      "Time: 10:50:02\n",
      "Time: 10:50:03\n",
      "Time: 10:50:04\n",
      "Time: 10:50:05\n",
      "Time: 10:50:06\n",
      "Time: 10:50:07\n",
      "Time: 10:50:08\n",
      "Time: 10:50:09\n",
      "Time: 10:50:10\n",
      "Time: 10:50:12\n",
      "Time: 10:50:13\n",
      "Time: 10:50:14\n",
      "Time: 10:50:15\n",
      "Time: 10:50:16\n",
      "Time: 10:50:17\n",
      "Time: 10:50:18\n",
      "Time: 10:50:19\n",
      "Time: 10:50:21\n",
      "Time: 10:50:22\n",
      "Time: 10:50:23\n",
      "Time: 10:50:24\n",
      "Time: 10:50:25\n",
      "Time: 10:50:26\n",
      "Time: 10:50:27\n",
      "Time: 10:50:28\n",
      "Time: 10:50:29\n",
      "Time: 10:50:30\n",
      "Time: 10:50:31\n",
      "Time: 10:50:33\n",
      "Time: 10:50:34\n",
      "Time: 10:50:35\n",
      "Time: 10:50:36\n",
      "Time: 10:50:37\n",
      "Time: 10:50:38\n",
      "Time: 10:50:39\n",
      "Time: 10:50:40\n",
      "Time: 10:50:41\n",
      "Time: 10:50:42\n",
      "Time: 10:50:43\n",
      "Time: 10:50:45\n",
      "Time: 10:50:46\n",
      "Time: 10:50:47\n",
      "Time: 10:50:48\n",
      "Time: 10:50:49\n",
      "Time: 10:50:50\n",
      "Time: 10:50:51\n",
      "Time: 10:50:52\n",
      "Time: 10:50:53\n",
      "Time: 10:50:54\n",
      "Time: 10:50:55\n",
      "Time: 10:50:57\n",
      "Time: 10:50:58\n",
      "Time: 10:50:59\n",
      "Time: 10:51:00\n",
      "Time: 10:51:01\n",
      "Time: 10:51:02\n",
      "Time: 10:51:03\n",
      "Time: 10:51:04\n",
      "Time: 10:51:06\n",
      "Time: 10:51:07\n",
      "Time: 10:51:08\n",
      "Time: 10:51:09\n",
      "Time: 10:51:10\n",
      "Time: 10:51:11\n",
      "Time: 10:51:12\n",
      "Time: 10:51:14\n",
      "Time: 10:51:15\n",
      "Time: 10:51:16\n",
      "Time: 10:51:17\n",
      "Time: 10:51:18\n",
      "Time: 10:51:19\n",
      "Time: 10:51:20\n",
      "Time: 10:51:21\n",
      "Time: 10:51:22\n",
      "Time: 10:51:24\n",
      "Time: 10:51:25\n",
      "Time: 10:51:27\n",
      "Time: 10:51:28\n",
      "Time: 10:51:29\n",
      "Time: 10:51:30\n",
      "Time: 10:51:31\n",
      "Time: 10:51:32\n",
      "Time: 10:51:33\n",
      "Time: 10:51:35\n",
      "Time: 10:51:36\n",
      "Time: 10:51:37\n",
      "Time: 10:51:38\n",
      "Time: 10:51:39\n",
      "Time: 10:51:40\n",
      "Time: 10:51:44\n",
      "Time: 10:51:45\n",
      "Time: 10:51:47\n",
      "Time: 10:51:48\n",
      "Time: 10:51:48\n",
      "Time: 10:51:52\n",
      "Time: 10:51:54\n",
      "Time: 10:51:55\n",
      "Time: 10:51:56\n",
      "Time: 10:51:57\n",
      "Time: 10:51:58\n",
      "Time: 10:51:59\n",
      "Time: 10:52:00\n",
      "Time: 10:52:05\n",
      "Time: 10:52:05\n",
      "Time: 10:52:06\n",
      "Time: 10:52:07\n",
      "Time: 10:52:09\n",
      "Time: 10:52:10\n",
      "Time: 10:52:10\n",
      "Time: 10:52:11\n",
      "Time: 10:52:12\n",
      "Time: 10:52:13\n",
      "Time: 10:52:15\n",
      "Time: 10:52:16\n",
      "Time: 10:52:17\n",
      "Time: 10:52:19\n",
      "Time: 10:52:20\n",
      "Time: 10:52:21\n",
      "Time: 10:52:23\n",
      "Time: 10:52:24\n",
      "Time: 10:52:25\n",
      "Time: 10:52:26\n",
      "Time: 10:52:27\n",
      "Time: 10:52:28\n",
      "Time: 10:52:29\n",
      "Time: 10:52:30\n",
      "Time: 10:52:31\n",
      "Time: 10:52:32\n",
      "Time: 10:52:33\n",
      "Time: 10:52:34\n",
      "Time: 10:52:36\n",
      "Time: 10:52:37\n",
      "Time: 10:52:38\n",
      "Time: 10:52:39\n",
      "Time: 10:52:40\n",
      "Time: 10:52:41\n",
      "Time: 10:52:42\n",
      "Time: 10:52:43\n",
      "Time: 10:52:44\n",
      "Time: 10:52:45\n",
      "Time: 10:52:46\n",
      "Time: 10:52:47\n",
      "Time: 10:52:48\n",
      "Time: 10:52:49\n",
      "Time: 10:52:50\n",
      "Time: 10:52:51\n",
      "Time: 10:52:52\n",
      "Time: 10:52:53\n",
      "Time: 10:52:54\n",
      "Time: 10:52:55\n",
      "Time: 10:52:56\n",
      "Time: 10:52:57\n",
      "Time: 10:52:58\n",
      "Time: 10:52:59\n",
      "Time: 10:53:00\n",
      "Time: 10:53:01\n",
      "Time: 10:53:02\n",
      "Time: 10:53:03\n",
      "Time: 10:53:04\n",
      "Time: 10:53:06\n",
      "Time: 10:53:07\n",
      "Time: 10:53:07\n",
      "Time: 10:53:09\n",
      "Time: 10:53:10\n",
      "Time: 10:53:11\n",
      "Time: 10:53:12\n",
      "Time: 10:53:13\n",
      "Time: 10:53:14\n",
      "Time: 10:53:15\n",
      "Time: 10:53:16\n",
      "Time: 10:53:18\n",
      "Time: 10:53:19\n",
      "Time: 10:53:20\n",
      "Time: 10:53:21\n",
      "Time: 10:53:22\n",
      "Time: 10:53:23\n",
      "Time: 10:53:24\n",
      "Time: 10:53:26\n",
      "Time: 10:53:27\n",
      "Time: 10:53:28\n",
      "Time: 10:53:29\n",
      "Time: 10:53:30\n",
      "Time: 10:53:31\n",
      "Time: 10:53:33\n",
      "Time: 10:53:34\n",
      "Time: 10:53:35\n",
      "Time: 10:53:36\n",
      "Time: 10:53:37\n",
      "Time: 10:53:38\n",
      "Time: 10:53:39\n",
      "Time: 10:53:41\n",
      "Time: 10:53:42\n",
      "Time: 10:53:43\n",
      "Time: 10:53:44\n",
      "Time: 10:53:45\n",
      "Time: 10:53:46\n",
      "Time: 10:53:47\n",
      "Time: 10:53:48\n",
      "Time: 10:53:49\n",
      "Time: 10:53:51\n",
      "Time: 10:53:51\n",
      "Time: 10:53:52\n",
      "Time: 10:53:53\n",
      "Time: 10:53:55\n",
      "Time: 10:53:56\n",
      "Time: 10:53:57\n",
      "Time: 10:53:58\n",
      "Time: 10:53:59\n",
      "Time: 10:54:00\n",
      "Time: 10:54:01\n",
      "Time: 10:54:02\n",
      "Time: 10:54:03\n",
      "Time: 10:54:05\n",
      "Time: 10:54:06\n",
      "Time: 10:54:07\n",
      "Time: 10:54:08\n",
      "Time: 10:54:09\n",
      "Time: 10:54:10\n",
      "Time: 10:54:11\n",
      "Time: 10:54:12\n",
      "Time: 10:54:13\n",
      "Time: 10:54:14\n",
      "Time: 10:54:16\n",
      "Time: 10:54:17\n",
      "Time: 10:54:18\n",
      "Time: 10:54:19\n",
      "Time: 10:54:20\n",
      "Time: 10:54:21\n",
      "Time: 10:54:22\n",
      "Time: 10:54:23\n",
      "Time: 10:54:24\n",
      "Time: 10:54:25\n",
      "Time: 10:54:27\n",
      "Time: 10:54:28\n",
      "Time: 10:54:29\n",
      "Time: 10:54:30\n",
      "Time: 10:54:31\n",
      "Time: 10:54:32\n",
      "Time: 10:54:33\n",
      "Time: 10:54:34\n",
      "Time: 10:54:35\n",
      "Time: 10:54:37\n",
      "Time: 10:54:38\n",
      "Time: 10:54:39\n",
      "Time: 10:54:40\n",
      "Time: 10:54:41\n",
      "Time: 10:54:42\n",
      "Time: 10:54:44\n",
      "Time: 10:54:45\n",
      "Time: 10:54:46\n",
      "Time: 10:54:47\n",
      "Time: 10:54:48\n",
      "Time: 10:54:49\n",
      "Time: 10:54:50\n",
      "Time: 10:54:51\n",
      "Time: 10:54:52\n",
      "Time: 10:54:54\n",
      "Time: 10:54:55\n",
      "Time: 10:54:56\n",
      "Time: 10:54:57\n",
      "Time: 10:54:59\n",
      "Time: 10:54:59\n",
      "Time: 10:55:01\n",
      "Time: 10:55:02\n",
      "Time: 10:55:03\n",
      "Time: 10:55:04\n",
      "Time: 10:55:05\n",
      "Time: 10:55:06\n",
      "Time: 10:55:08\n",
      "Time: 10:55:09\n",
      "Time: 10:55:10\n",
      "Time: 10:55:11\n",
      "Time: 10:55:12\n",
      "Time: 10:55:13\n",
      "Time: 10:55:14\n",
      "Time: 10:55:16\n",
      "Time: 10:55:17\n",
      "Time: 10:55:18\n",
      "Time: 10:55:19\n",
      "Time: 10:55:20\n",
      "Time: 10:55:21\n",
      "Time: 10:55:23\n",
      "Time: 10:55:24\n",
      "Time: 10:55:25\n",
      "Time: 10:55:26\n",
      "Time: 10:55:27\n",
      "Time: 10:55:28\n",
      "Time: 10:55:30\n",
      "Time: 10:55:31\n",
      "Time: 10:55:32\n",
      "Time: 10:55:33\n",
      "Time: 10:55:34\n",
      "Time: 10:55:35\n",
      "Time: 10:55:36\n",
      "Time: 10:55:37\n",
      "Time: 10:55:38\n",
      "Time: 10:55:39\n",
      "Time: 10:55:40\n",
      "Time: 10:55:41\n",
      "Time: 10:55:42\n",
      "Time: 10:55:44\n",
      "Time: 10:55:45\n",
      "Time: 10:55:46\n",
      "Time: 10:55:48\n",
      "Time: 10:55:49\n",
      "Time: 10:55:50\n",
      "Time: 10:55:51\n",
      "Time: 10:55:52\n",
      "Time: 10:55:53\n",
      "Time: 10:55:54\n",
      "Time: 10:55:55\n",
      "Time: 10:55:56\n",
      "Time: 10:55:57\n",
      "Time: 10:55:58\n",
      "Time: 10:55:59\n",
      "Time: 10:56:00\n",
      "Time: 10:56:02\n",
      "Time: 10:56:03\n",
      "Time: 10:56:04\n",
      "Time: 10:56:05\n",
      "Time: 10:56:06\n",
      "Time: 10:56:07\n",
      "Time: 10:56:08\n",
      "Time: 10:56:09\n",
      "Time: 10:56:10\n",
      "Time: 10:56:12\n",
      "Time: 10:56:13\n",
      "Time: 10:56:14\n",
      "Time: 10:56:15\n",
      "Time: 10:56:17\n",
      "Time: 10:56:18\n",
      "Time: 10:56:19\n",
      "Time: 10:56:20\n",
      "Time: 10:56:21\n",
      "Time: 10:56:22\n",
      "Time: 10:56:23\n",
      "Time: 10:56:24\n",
      "Time: 10:56:25\n",
      "Time: 10:56:26\n",
      "Time: 10:56:27\n",
      "Time: 10:56:28\n",
      "Time: 10:56:29\n",
      "Time: 10:56:31\n",
      "Time: 10:56:32\n",
      "Time: 10:56:33\n",
      "Time: 10:56:34\n",
      "Time: 10:56:35\n",
      "Time: 10:56:37\n",
      "Time: 10:56:38\n",
      "Time: 10:56:39\n",
      "Time: 10:56:40\n",
      "Time: 10:56:41\n",
      "Time: 10:56:43\n",
      "Time: 10:56:44\n",
      "Time: 10:56:45\n",
      "Time: 10:56:46\n",
      "Time: 10:56:47\n",
      "Time: 10:56:48\n",
      "Time: 10:56:49\n",
      "Time: 10:56:51\n",
      "Time: 10:56:52\n",
      "Time: 10:56:53\n",
      "Time: 10:56:54\n",
      "Time: 10:56:55\n",
      "Time: 10:56:56\n",
      "Time: 10:56:57\n",
      "Time: 10:56:58\n",
      "Time: 10:56:59\n",
      "Time: 10:57:00\n",
      "Time: 10:57:02\n",
      "Time: 10:57:03\n",
      "Time: 10:57:04\n",
      "Time: 10:57:05\n",
      "Time: 10:57:06\n",
      "Time: 10:57:07\n",
      "Time: 10:57:08\n",
      "Time: 10:57:09\n",
      "Time: 10:57:10\n",
      "Time: 10:57:11\n",
      "Time: 10:57:13\n",
      "Time: 10:57:14\n",
      "Time: 10:57:15\n",
      "Time: 10:57:16\n",
      "Time: 10:57:17\n",
      "Time: 10:57:18\n",
      "Time: 10:57:19\n",
      "Time: 10:57:20\n",
      "Time: 10:57:22\n",
      "Time: 10:57:23\n",
      "Time: 10:57:24\n",
      "Time: 10:57:25\n",
      "Time: 10:57:26\n",
      "Time: 10:57:27\n",
      "Time: 10:57:29\n",
      "Time: 10:57:29\n",
      "Time: 10:57:30\n",
      "Time: 10:57:32\n",
      "Time: 10:57:33\n",
      "Time: 10:57:33\n",
      "Time: 10:57:35\n",
      "Time: 10:57:36\n",
      "Time: 10:57:37\n",
      "Time: 10:57:38\n",
      "Time: 10:57:39\n",
      "Time: 10:57:40\n",
      "Time: 10:57:41\n",
      "Time: 10:57:43\n",
      "Time: 10:57:44\n",
      "Time: 10:57:45\n",
      "Time: 10:57:46\n",
      "Time: 10:57:47\n",
      "Time: 10:57:48\n",
      "Time: 10:57:49\n",
      "Time: 10:57:50\n",
      "Time: 10:57:51\n",
      "Time: 10:57:52\n",
      "Time: 10:57:53\n",
      "Time: 10:57:55\n",
      "Time: 10:57:56\n",
      "Time: 10:57:57\n",
      "Time: 10:57:58\n",
      "Time: 10:57:59\n",
      "Time: 10:58:00\n",
      "Time: 10:58:01\n",
      "Time: 10:58:02\n",
      "Time: 10:58:03\n",
      "Time: 10:58:04\n",
      "Time: 10:58:05\n",
      "Time: 10:58:07\n",
      "Time: 10:58:08\n",
      "Time: 10:58:09\n",
      "Time: 10:58:10\n",
      "Time: 10:58:11\n",
      "Time: 10:58:12\n",
      "Time: 10:58:13\n",
      "Time: 10:58:14\n",
      "Time: 10:58:15\n",
      "Time: 10:58:16\n",
      "Time: 10:58:17\n",
      "Time: 10:58:18\n",
      "Time: 10:58:19\n",
      "Time: 10:58:20\n",
      "Time: 10:58:21\n",
      "Time: 10:58:23\n",
      "Time: 10:58:24\n",
      "Time: 10:58:25\n",
      "Time: 10:58:26\n",
      "Time: 10:58:27\n",
      "Time: 10:58:28\n",
      "Time: 10:58:29\n",
      "Time: 10:58:30\n",
      "Time: 10:58:31\n",
      "Time: 10:58:32\n",
      "Time: 10:58:33\n",
      "Time: 10:58:34\n",
      "Time: 10:58:35\n",
      "Time: 10:58:36\n",
      "Time: 10:58:37\n",
      "Time: 10:58:38\n",
      "Time: 10:58:39\n",
      "Time: 10:58:40\n",
      "Time: 10:58:41\n",
      "Time: 10:58:42\n",
      "Time: 10:58:43\n",
      "Time: 10:58:44\n",
      "Time: 10:58:45\n",
      "Time: 10:58:46\n",
      "Time: 10:58:47\n",
      "Time: 10:58:49\n",
      "Time: 10:58:50\n",
      "Time: 10:58:51\n",
      "Time: 10:58:52\n",
      "Time: 10:58:53\n",
      "Time: 10:58:54\n",
      "Time: 10:58:56\n",
      "Time: 10:58:57\n",
      "Time: 10:58:58\n",
      "Time: 10:58:59\n",
      "Time: 10:59:00\n",
      "Time: 10:59:01\n",
      "Time: 10:59:02\n",
      "Time: 10:59:03\n",
      "Time: 10:59:04\n",
      "Time: 10:59:05\n",
      "Time: 10:59:06\n",
      "Time: 10:59:08\n",
      "Time: 10:59:09\n",
      "Time: 10:59:10\n",
      "Time: 10:59:11\n",
      "Time: 10:59:12\n",
      "Time: 10:59:13\n",
      "Time: 10:59:17\n",
      "Time: 10:59:18\n",
      "Time: 10:59:19\n",
      "Time: 10:59:20\n",
      "Time: 10:59:21\n",
      "Time: 10:59:22\n",
      "Time: 10:59:24\n",
      "Time: 10:59:25\n",
      "Time: 10:59:26\n",
      "Time: 10:59:27\n",
      "Time: 10:59:28\n",
      "Time: 10:59:29\n",
      "Time: 10:59:30\n",
      "Time: 10:59:31\n",
      "Time: 10:59:32\n",
      "Time: 10:59:33\n",
      "Time: 10:59:35\n",
      "Time: 10:59:36\n",
      "Time: 10:59:37\n",
      "Time: 10:59:38\n",
      "Time: 10:59:39\n",
      "Time: 10:59:41\n",
      "Time: 10:59:42\n",
      "Time: 10:59:43\n",
      "Time: 10:59:44\n",
      "Time: 10:59:45\n",
      "Time: 10:59:47\n",
      "Time: 10:59:48\n",
      "Time: 10:59:48\n",
      "Time: 10:59:50\n",
      "Time: 10:59:50\n",
      "Time: 10:59:51\n",
      "Time: 10:59:52\n",
      "Time: 10:59:53\n",
      "Time: 10:59:55\n",
      "Time: 10:59:56\n",
      "Time: 10:59:57\n",
      "Time: 10:59:58\n",
      "Time: 10:59:59\n",
      "Time: 11:00:00\n",
      "Time: 11:00:01\n",
      "Time: 11:00:02\n",
      "Time: 11:00:03\n",
      "Time: 11:00:04\n",
      "Time: 11:00:05\n",
      "Time: 11:00:06\n",
      "Time: 11:00:07\n",
      "Time: 11:00:08\n",
      "Time: 11:00:09\n",
      "Time: 11:00:10\n",
      "Time: 11:00:11\n",
      "Time: 11:00:12\n",
      "Time: 11:00:14\n",
      "Time: 11:00:15\n",
      "Time: 11:00:16\n",
      "Time: 11:00:17\n",
      "Time: 11:00:18\n",
      "Time: 11:00:19\n",
      "Time: 11:00:20\n",
      "Time: 11:00:21\n",
      "Time: 11:00:22\n",
      "Time: 11:00:24\n",
      "Time: 11:00:25\n",
      "Time: 11:00:26\n",
      "Time: 11:00:27\n",
      "Time: 11:00:28\n",
      "Time: 11:00:29\n",
      "Time: 11:00:30\n",
      "Time: 11:00:31\n",
      "Time: 11:00:32\n",
      "Time: 11:00:33\n",
      "Time: 11:00:34\n",
      "Time: 11:00:35\n",
      "Time: 11:00:36\n",
      "Time: 11:00:37\n",
      "Time: 11:00:38\n",
      "Time: 11:00:39\n",
      "Time: 11:00:41\n",
      "Time: 11:00:42\n",
      "Time: 11:00:43\n",
      "Time: 11:00:44\n",
      "Time: 11:00:45\n",
      "Time: 11:00:46\n",
      "Time: 11:00:47\n",
      "Time: 11:00:48\n",
      "Time: 11:00:50\n",
      "Time: 11:00:51\n",
      "Time: 11:00:51\n",
      "Time: 11:00:52\n",
      "Time: 11:00:53\n",
      "Time: 11:00:54\n",
      "Time: 11:00:55\n",
      "Time: 11:00:56\n",
      "Time: 11:00:57\n",
      "Time: 11:00:59\n",
      "Time: 11:01:00\n",
      "Time: 11:01:01\n",
      "Time: 11:01:02\n",
      "Time: 11:01:04\n",
      "Time: 11:01:05\n",
      "Time: 11:01:06\n",
      "Time: 11:01:07\n",
      "Time: 11:01:08\n",
      "Time: 11:01:09\n",
      "Time: 11:01:10\n",
      "Time: 11:01:12\n",
      "Time: 11:01:13\n",
      "Time: 11:01:14\n",
      "Time: 11:01:15\n",
      "Time: 11:01:16\n",
      "Time: 11:01:17\n",
      "Time: 11:01:18\n",
      "Time: 11:01:20\n",
      "Time: 11:01:21\n",
      "Time: 11:01:21\n",
      "Time: 11:01:23\n",
      "Time: 11:01:24\n",
      "Time: 11:01:25\n",
      "Time: 11:01:26\n",
      "Time: 11:01:27\n",
      "Time: 11:01:29\n",
      "Time: 11:01:29\n",
      "Time: 11:01:31\n",
      "Time: 11:01:32\n",
      "Time: 11:01:33\n",
      "Time: 11:01:34\n",
      "Time: 11:01:34\n",
      "Time: 11:01:36\n",
      "Time: 11:01:36\n",
      "Time: 11:01:37\n",
      "Time: 11:01:38\n",
      "Time: 11:01:40\n",
      "Time: 11:01:41\n",
      "Time: 11:01:42\n",
      "Time: 11:01:43\n",
      "Time: 11:01:44\n",
      "Time: 11:01:45\n",
      "Time: 11:01:46\n",
      "Time: 11:01:47\n",
      "Time: 11:01:48\n",
      "Time: 11:01:49\n",
      "Time: 11:01:50\n",
      "Time: 11:01:51\n",
      "Time: 11:01:53\n",
      "Time: 11:01:53\n",
      "Time: 11:01:55\n",
      "Time: 11:01:56\n",
      "Time: 11:01:57\n",
      "Time: 11:01:58\n",
      "Time: 11:01:59\n",
      "Time: 11:02:00\n",
      "Time: 11:02:01\n",
      "Time: 11:02:02\n",
      "Time: 11:02:03\n",
      "Time: 11:02:04\n",
      "Time: 11:02:06\n",
      "Time: 11:02:07\n",
      "Time: 11:02:08\n",
      "Time: 11:02:09\n",
      "Time: 11:02:10\n",
      "Time: 11:02:11\n",
      "Time: 11:02:13\n",
      "Time: 11:02:14\n",
      "Time: 11:02:15\n",
      "Time: 11:02:17\n",
      "Time: 11:02:18\n",
      "Time: 11:02:19\n",
      "Time: 11:02:20\n",
      "Time: 11:02:21\n",
      "Time: 11:02:22\n",
      "Time: 11:02:23\n",
      "Time: 11:02:24\n",
      "Time: 11:02:25\n",
      "Time: 11:02:26\n",
      "Time: 11:02:27\n",
      "Time: 11:02:28\n",
      "Time: 11:02:30\n",
      "Time: 11:02:31\n",
      "Time: 11:02:32\n",
      "Time: 11:02:33\n",
      "Time: 11:02:34\n",
      "Time: 11:02:35\n",
      "Time: 11:02:36\n",
      "Time: 11:02:37\n",
      "Time: 11:02:38\n",
      "Time: 11:02:39\n",
      "Time: 11:02:40\n",
      "Time: 11:02:41\n",
      "Time: 11:02:42\n",
      "Time: 11:02:43\n",
      "Time: 11:02:44\n",
      "Time: 11:02:46\n",
      "Time: 11:02:47\n",
      "Time: 11:02:48\n",
      "Time: 11:02:49\n",
      "Time: 11:02:50\n",
      "Time: 11:02:51\n",
      "Time: 11:02:51\n",
      "Time: 11:02:53\n",
      "Time: 11:02:54\n",
      "Time: 11:02:55\n",
      "Time: 11:02:56\n",
      "Time: 11:02:57\n",
      "Time: 11:02:58\n",
      "Time: 11:02:59\n",
      "Time: 11:03:00\n",
      "Time: 11:03:00\n",
      "Time: 11:03:02\n",
      "Time: 11:03:03\n",
      "Time: 11:03:04\n",
      "Time: 11:03:04\n",
      "Time: 11:03:06\n",
      "Time: 11:03:07\n",
      "Time: 11:03:08\n",
      "Time: 11:03:09\n",
      "Time: 11:03:10\n",
      "Time: 11:03:11\n",
      "Time: 11:03:12\n",
      "Time: 11:03:13\n",
      "Time: 11:03:14\n",
      "Time: 11:03:15\n",
      "Time: 11:03:16\n",
      "Time: 11:03:18\n",
      "Time: 11:03:19\n",
      "Time: 11:03:20\n",
      "Time: 11:03:21\n",
      "Time: 11:03:22\n",
      "Time: 11:03:23\n",
      "Time: 11:03:24\n",
      "Time: 11:03:25\n",
      "Time: 11:03:26\n",
      "Time: 11:03:27\n",
      "Time: 11:03:28\n",
      "Time: 11:03:29\n",
      "Time: 11:03:30\n",
      "Time: 11:03:31\n",
      "Time: 11:03:32\n",
      "Time: 11:03:34\n",
      "Time: 11:03:35\n",
      "Time: 11:03:36\n",
      "Time: 11:03:37\n",
      "Time: 11:03:38\n",
      "Time: 11:03:39\n",
      "Time: 11:03:40\n",
      "Time: 11:03:41\n",
      "Time: 11:03:42\n",
      "Time: 11:03:43\n",
      "Time: 11:03:44\n",
      "Time: 11:03:45\n",
      "Time: 11:03:46\n",
      "Time: 11:03:48\n",
      "Time: 11:03:49\n",
      "Time: 11:03:49\n",
      "Time: 11:03:50\n",
      "Time: 11:03:51\n",
      "Time: 11:03:52\n",
      "Time: 11:03:54\n",
      "Time: 11:03:55\n",
      "Time: 11:03:55\n",
      "Time: 11:03:57\n",
      "Time: 11:03:58\n",
      "Time: 11:03:59\n",
      "Time: 11:04:00\n",
      "Time: 11:04:01\n",
      "Time: 11:04:03\n",
      "Time: 11:04:04\n",
      "Time: 11:04:05\n",
      "Time: 11:04:06\n",
      "Time: 11:04:07\n",
      "Time: 11:04:08\n",
      "Time: 11:04:09\n",
      "Time: 11:04:10\n",
      "Time: 11:04:11\n",
      "Time: 11:04:12\n",
      "Time: 11:04:13\n",
      "Time: 11:04:14\n",
      "Time: 11:04:15\n",
      "Time: 11:04:16\n",
      "Time: 11:04:17\n",
      "Time: 11:04:18\n",
      "Time: 11:04:19\n",
      "Time: 11:04:20\n",
      "Time: 11:04:21\n",
      "Time: 11:04:22\n",
      "Time: 11:04:23\n",
      "Time: 11:04:25\n",
      "Time: 11:04:26\n",
      "Time: 11:04:27\n",
      "Time: 11:04:28\n",
      "Time: 11:04:29\n",
      "Time: 11:04:30\n",
      "Time: 11:04:31\n",
      "Time: 11:04:32\n",
      "Time: 11:04:33\n",
      "Time: 11:04:34\n",
      "Time: 11:04:35\n",
      "Time: 11:04:36\n",
      "Time: 11:04:37\n",
      "Time: 11:04:39\n",
      "Time: 11:04:40\n",
      "Time: 11:04:41\n",
      "Time: 11:04:42\n",
      "Time: 11:04:43\n",
      "Time: 11:04:44\n",
      "Time: 11:04:45\n",
      "Time: 11:04:46\n",
      "Time: 11:04:47\n",
      "Time: 11:04:48\n",
      "Time: 11:04:49\n",
      "Time: 11:04:50\n",
      "Time: 11:04:51\n",
      "Time: 11:04:52\n",
      "Time: 11:04:53\n",
      "Time: 11:04:54\n",
      "Time: 11:04:55\n",
      "Time: 11:04:57\n",
      "Time: 11:04:57\n",
      "Time: 11:04:59\n",
      "Time: 11:04:59\n",
      "Time: 11:05:00\n",
      "Time: 11:05:02\n",
      "Time: 11:05:03\n",
      "Time: 11:05:04\n",
      "Time: 11:05:05\n",
      "Time: 11:05:06\n",
      "Time: 11:05:07\n",
      "Time: 11:05:08\n",
      "Time: 11:05:09\n",
      "Time: 11:05:11\n",
      "Time: 11:05:11\n",
      "Time: 11:05:13\n",
      "Time: 11:05:13\n",
      "Time: 11:05:15\n",
      "Time: 11:05:16\n",
      "Time: 11:05:17\n",
      "Time: 11:05:18\n",
      "Time: 11:05:19\n",
      "Time: 11:05:20\n",
      "Time: 11:05:21\n",
      "Time: 11:05:22\n",
      "Time: 11:05:23\n",
      "Time: 11:05:24\n",
      "Time: 11:05:25\n",
      "Time: 11:05:26\n",
      "Time: 11:05:27\n",
      "Time: 11:05:28\n",
      "Time: 11:05:29\n",
      "Time: 11:05:31\n",
      "Time: 11:05:32\n",
      "Time: 11:05:33\n",
      "Time: 11:05:34\n",
      "Time: 11:05:35\n",
      "Time: 11:05:36\n",
      "Time: 11:05:37\n",
      "Time: 11:05:38\n",
      "Time: 11:05:39\n",
      "Time: 11:05:40\n",
      "Time: 11:05:41\n",
      "Time: 11:05:43\n",
      "Time: 11:05:44\n",
      "Time: 11:05:45\n",
      "Time: 11:05:46\n",
      "Time: 11:05:47\n",
      "Time: 11:05:48\n",
      "Time: 11:05:49\n",
      "Time: 11:05:50\n",
      "Time: 11:05:51\n",
      "Time: 11:05:52\n",
      "Time: 11:05:53\n",
      "Time: 11:05:54\n",
      "Time: 11:05:55\n",
      "Time: 11:05:56\n",
      "Time: 11:05:57\n",
      "Time: 11:05:58\n",
      "Time: 11:05:59\n",
      "Time: 11:06:00\n",
      "Time: 11:06:01\n",
      "Time: 11:06:02\n",
      "Time: 11:06:02\n",
      "Time: 11:06:03\n",
      "Time: 11:06:04\n",
      "Time: 11:06:05\n",
      "Time: 11:06:06\n",
      "Time: 11:06:07\n",
      "Time: 11:06:08\n",
      "Time: 11:06:10\n",
      "Time: 11:06:11\n",
      "Time: 11:06:12\n",
      "Time: 11:06:13\n",
      "Time: 11:06:15\n",
      "Time: 11:06:16\n",
      "Time: 11:06:17\n",
      "Time: 11:06:18\n",
      "Time: 11:06:19\n",
      "Time: 11:06:20\n",
      "Time: 11:06:21\n",
      "Time: 11:06:22\n",
      "Time: 11:06:23\n",
      "Time: 11:06:24\n",
      "Time: 11:06:25\n",
      "Time: 11:06:26\n",
      "Time: 11:06:27\n",
      "Time: 11:06:28\n",
      "Time: 11:06:29\n",
      "Time: 11:06:31\n",
      "Time: 11:06:32\n",
      "Time: 11:06:33\n",
      "Time: 11:06:34\n",
      "Time: 11:06:35\n",
      "Time: 11:06:36\n",
      "Time: 11:06:37\n",
      "Time: 11:06:39\n",
      "Time: 11:06:40\n",
      "Time: 11:06:41\n",
      "Time: 11:06:42\n",
      "Time: 11:06:43\n",
      "Time: 11:06:44\n",
      "Time: 11:06:45\n",
      "Time: 11:06:46\n",
      "Time: 11:06:47\n",
      "Time: 11:06:48\n",
      "Time: 11:06:49\n",
      "Time: 11:06:50\n",
      "Time: 11:06:52\n",
      "Time: 11:06:53\n",
      "Time: 11:06:53\n",
      "Time: 11:06:55\n",
      "Time: 11:06:56\n",
      "Time: 11:06:56\n",
      "Time: 11:06:58\n",
      "Time: 11:06:59\n",
      "Time: 11:07:00\n",
      "Time: 11:07:01\n",
      "Time: 11:07:02\n",
      "Time: 11:07:03\n",
      "Time: 11:07:04\n",
      "Time: 11:07:05\n",
      "Time: 11:07:06\n",
      "Time: 11:07:07\n",
      "Time: 11:07:08\n",
      "Time: 11:07:09\n",
      "Time: 11:07:10\n",
      "Time: 11:07:11\n",
      "Time: 11:07:12\n",
      "Time: 11:07:13\n",
      "Time: 11:07:14\n",
      "Time: 11:07:15\n",
      "Time: 11:07:16\n",
      "Time: 11:07:17\n",
      "Time: 11:07:18\n",
      "Time: 11:07:20\n",
      "Time: 11:07:21\n",
      "Time: 11:07:21\n",
      "Time: 11:07:23\n",
      "Time: 11:07:24\n",
      "Time: 11:07:25\n"
     ]
    },
    {
     "ename": "KeyboardInterrupt",
     "evalue": "",
     "output_type": "error",
     "traceback": [
      "\u001b[0;31m---------------------------------------------------------------------------\u001b[0m",
      "\u001b[0;31mKeyboardInterrupt\u001b[0m                         Traceback (most recent call last)",
      "\u001b[1;32m/Users/csingh/Documents/Projects/Quant/csv_price.ipynb Cell 5\u001b[0m in \u001b[0;36m<cell line: 2>\u001b[0;34m()\u001b[0m\n\u001b[1;32m      <a href='vscode-notebook-cell:/Users/csingh/Documents/Projects/Quant/csv_price.ipynb#W2sZmlsZQ%3D%3D?line=0'>1</a>\u001b[0m go \u001b[39m=\u001b[39m \u001b[39mTrue\u001b[39;00m\n\u001b[1;32m      <a href='vscode-notebook-cell:/Users/csingh/Documents/Projects/Quant/csv_price.ipynb#W2sZmlsZQ%3D%3D?line=1'>2</a>\u001b[0m \u001b[39mwhile\u001b[39;00m go:\n\u001b[0;32m----> <a href='vscode-notebook-cell:/Users/csingh/Documents/Projects/Quant/csv_price.ipynb#W2sZmlsZQ%3D%3D?line=2'>3</a>\u001b[0m     time_price_data()\n\u001b[1;32m      <a href='vscode-notebook-cell:/Users/csingh/Documents/Projects/Quant/csv_price.ipynb#W2sZmlsZQ%3D%3D?line=3'>4</a>\u001b[0m     time\u001b[39m.\u001b[39msleep(\u001b[39m0.5\u001b[39m)\n",
      "\u001b[1;32m/Users/csingh/Documents/Projects/Quant/csv_price.ipynb Cell 5\u001b[0m in \u001b[0;36mtime_price_data\u001b[0;34m()\u001b[0m\n\u001b[1;32m      <a href='vscode-notebook-cell:/Users/csingh/Documents/Projects/Quant/csv_price.ipynb#W2sZmlsZQ%3D%3D?line=0'>1</a>\u001b[0m \u001b[39mdef\u001b[39;00m \u001b[39mtime_price_data\u001b[39m():\n\u001b[0;32m----> <a href='vscode-notebook-cell:/Users/csingh/Documents/Projects/Quant/csv_price.ipynb#W2sZmlsZQ%3D%3D?line=2'>3</a>\u001b[0m     p_json \u001b[39m=\u001b[39m get_prices()\n\u001b[1;32m      <a href='vscode-notebook-cell:/Users/csingh/Documents/Projects/Quant/csv_price.ipynb#W2sZmlsZQ%3D%3D?line=3'>4</a>\u001b[0m     now \u001b[39m=\u001b[39m datetime\u001b[39m.\u001b[39mnow()\n\u001b[1;32m      <a href='vscode-notebook-cell:/Users/csingh/Documents/Projects/Quant/csv_price.ipynb#W2sZmlsZQ%3D%3D?line=4'>5</a>\u001b[0m     current_time \u001b[39m=\u001b[39m now\u001b[39m.\u001b[39mstrftime(\u001b[39m\"\u001b[39m\u001b[39m%\u001b[39m\u001b[39mI:\u001b[39m\u001b[39m%\u001b[39m\u001b[39mM:\u001b[39m\u001b[39m%\u001b[39m\u001b[39mS\u001b[39m\u001b[39m\"\u001b[39m)\n",
      "\u001b[1;32m/Users/csingh/Documents/Projects/Quant/csv_price.ipynb Cell 5\u001b[0m in \u001b[0;36mget_prices\u001b[0;34m()\u001b[0m\n\u001b[1;32m     <a href='vscode-notebook-cell:/Users/csingh/Documents/Projects/Quant/csv_price.ipynb#W2sZmlsZQ%3D%3D?line=29'>30</a>\u001b[0m \u001b[39mdef\u001b[39;00m \u001b[39mget_prices\u001b[39m():\n\u001b[0;32m---> <a href='vscode-notebook-cell:/Users/csingh/Documents/Projects/Quant/csv_price.ipynb#W2sZmlsZQ%3D%3D?line=30'>31</a>\u001b[0m     response \u001b[39m=\u001b[39m urlopen(prices_url) \u001b[39m# store the response of URL \u001b[39;00m\n\u001b[1;32m     <a href='vscode-notebook-cell:/Users/csingh/Documents/Projects/Quant/csv_price.ipynb#W2sZmlsZQ%3D%3D?line=31'>32</a>\u001b[0m     prices_json \u001b[39m=\u001b[39m json\u001b[39m.\u001b[39mloads(response\u001b[39m.\u001b[39mread()) \u001b[39m# storing the JSON response\u001b[39;00m\n\u001b[1;32m     <a href='vscode-notebook-cell:/Users/csingh/Documents/Projects/Quant/csv_price.ipynb#W2sZmlsZQ%3D%3D?line=32'>33</a>\u001b[0m     \u001b[39mreturn\u001b[39;00m prices_json\n",
      "File \u001b[0;32m~/opt/miniconda3/envs/text-mine/lib/python3.9/urllib/request.py:214\u001b[0m, in \u001b[0;36murlopen\u001b[0;34m(url, data, timeout, cafile, capath, cadefault, context)\u001b[0m\n\u001b[1;32m    212\u001b[0m \u001b[39melse\u001b[39;00m:\n\u001b[1;32m    213\u001b[0m     opener \u001b[39m=\u001b[39m _opener\n\u001b[0;32m--> 214\u001b[0m \u001b[39mreturn\u001b[39;00m opener\u001b[39m.\u001b[39;49mopen(url, data, timeout)\n",
      "File \u001b[0;32m~/opt/miniconda3/envs/text-mine/lib/python3.9/urllib/request.py:517\u001b[0m, in \u001b[0;36mOpenerDirector.open\u001b[0;34m(self, fullurl, data, timeout)\u001b[0m\n\u001b[1;32m    514\u001b[0m     req \u001b[39m=\u001b[39m meth(req)\n\u001b[1;32m    516\u001b[0m sys\u001b[39m.\u001b[39maudit(\u001b[39m'\u001b[39m\u001b[39murllib.Request\u001b[39m\u001b[39m'\u001b[39m, req\u001b[39m.\u001b[39mfull_url, req\u001b[39m.\u001b[39mdata, req\u001b[39m.\u001b[39mheaders, req\u001b[39m.\u001b[39mget_method())\n\u001b[0;32m--> 517\u001b[0m response \u001b[39m=\u001b[39m \u001b[39mself\u001b[39;49m\u001b[39m.\u001b[39;49m_open(req, data)\n\u001b[1;32m    519\u001b[0m \u001b[39m# post-process response\u001b[39;00m\n\u001b[1;32m    520\u001b[0m meth_name \u001b[39m=\u001b[39m protocol\u001b[39m+\u001b[39m\u001b[39m\"\u001b[39m\u001b[39m_response\u001b[39m\u001b[39m\"\u001b[39m\n",
      "File \u001b[0;32m~/opt/miniconda3/envs/text-mine/lib/python3.9/urllib/request.py:534\u001b[0m, in \u001b[0;36mOpenerDirector._open\u001b[0;34m(self, req, data)\u001b[0m\n\u001b[1;32m    531\u001b[0m     \u001b[39mreturn\u001b[39;00m result\n\u001b[1;32m    533\u001b[0m protocol \u001b[39m=\u001b[39m req\u001b[39m.\u001b[39mtype\n\u001b[0;32m--> 534\u001b[0m result \u001b[39m=\u001b[39m \u001b[39mself\u001b[39;49m\u001b[39m.\u001b[39;49m_call_chain(\u001b[39mself\u001b[39;49m\u001b[39m.\u001b[39;49mhandle_open, protocol, protocol \u001b[39m+\u001b[39;49m\n\u001b[1;32m    535\u001b[0m                           \u001b[39m'\u001b[39;49m\u001b[39m_open\u001b[39;49m\u001b[39m'\u001b[39;49m, req)\n\u001b[1;32m    536\u001b[0m \u001b[39mif\u001b[39;00m result:\n\u001b[1;32m    537\u001b[0m     \u001b[39mreturn\u001b[39;00m result\n",
      "File \u001b[0;32m~/opt/miniconda3/envs/text-mine/lib/python3.9/urllib/request.py:494\u001b[0m, in \u001b[0;36mOpenerDirector._call_chain\u001b[0;34m(self, chain, kind, meth_name, *args)\u001b[0m\n\u001b[1;32m    492\u001b[0m \u001b[39mfor\u001b[39;00m handler \u001b[39min\u001b[39;00m handlers:\n\u001b[1;32m    493\u001b[0m     func \u001b[39m=\u001b[39m \u001b[39mgetattr\u001b[39m(handler, meth_name)\n\u001b[0;32m--> 494\u001b[0m     result \u001b[39m=\u001b[39m func(\u001b[39m*\u001b[39;49margs)\n\u001b[1;32m    495\u001b[0m     \u001b[39mif\u001b[39;00m result \u001b[39mis\u001b[39;00m \u001b[39mnot\u001b[39;00m \u001b[39mNone\u001b[39;00m:\n\u001b[1;32m    496\u001b[0m         \u001b[39mreturn\u001b[39;00m result\n",
      "File \u001b[0;32m~/opt/miniconda3/envs/text-mine/lib/python3.9/urllib/request.py:1389\u001b[0m, in \u001b[0;36mHTTPSHandler.https_open\u001b[0;34m(self, req)\u001b[0m\n\u001b[1;32m   1388\u001b[0m \u001b[39mdef\u001b[39;00m \u001b[39mhttps_open\u001b[39m(\u001b[39mself\u001b[39m, req):\n\u001b[0;32m-> 1389\u001b[0m     \u001b[39mreturn\u001b[39;00m \u001b[39mself\u001b[39;49m\u001b[39m.\u001b[39;49mdo_open(http\u001b[39m.\u001b[39;49mclient\u001b[39m.\u001b[39;49mHTTPSConnection, req,\n\u001b[1;32m   1390\u001b[0m         context\u001b[39m=\u001b[39;49m\u001b[39mself\u001b[39;49m\u001b[39m.\u001b[39;49m_context, check_hostname\u001b[39m=\u001b[39;49m\u001b[39mself\u001b[39;49m\u001b[39m.\u001b[39;49m_check_hostname)\n",
      "File \u001b[0;32m~/opt/miniconda3/envs/text-mine/lib/python3.9/urllib/request.py:1346\u001b[0m, in \u001b[0;36mAbstractHTTPHandler.do_open\u001b[0;34m(self, http_class, req, **http_conn_args)\u001b[0m\n\u001b[1;32m   1344\u001b[0m \u001b[39mtry\u001b[39;00m:\n\u001b[1;32m   1345\u001b[0m     \u001b[39mtry\u001b[39;00m:\n\u001b[0;32m-> 1346\u001b[0m         h\u001b[39m.\u001b[39;49mrequest(req\u001b[39m.\u001b[39;49mget_method(), req\u001b[39m.\u001b[39;49mselector, req\u001b[39m.\u001b[39;49mdata, headers,\n\u001b[1;32m   1347\u001b[0m                   encode_chunked\u001b[39m=\u001b[39;49mreq\u001b[39m.\u001b[39;49mhas_header(\u001b[39m'\u001b[39;49m\u001b[39mTransfer-encoding\u001b[39;49m\u001b[39m'\u001b[39;49m))\n\u001b[1;32m   1348\u001b[0m     \u001b[39mexcept\u001b[39;00m \u001b[39mOSError\u001b[39;00m \u001b[39mas\u001b[39;00m err: \u001b[39m# timeout error\u001b[39;00m\n\u001b[1;32m   1349\u001b[0m         \u001b[39mraise\u001b[39;00m URLError(err)\n",
      "File \u001b[0;32m~/opt/miniconda3/envs/text-mine/lib/python3.9/http/client.py:1285\u001b[0m, in \u001b[0;36mHTTPConnection.request\u001b[0;34m(self, method, url, body, headers, encode_chunked)\u001b[0m\n\u001b[1;32m   1282\u001b[0m \u001b[39mdef\u001b[39;00m \u001b[39mrequest\u001b[39m(\u001b[39mself\u001b[39m, method, url, body\u001b[39m=\u001b[39m\u001b[39mNone\u001b[39;00m, headers\u001b[39m=\u001b[39m{}, \u001b[39m*\u001b[39m,\n\u001b[1;32m   1283\u001b[0m             encode_chunked\u001b[39m=\u001b[39m\u001b[39mFalse\u001b[39;00m):\n\u001b[1;32m   1284\u001b[0m     \u001b[39m\"\"\"Send a complete request to the server.\"\"\"\u001b[39;00m\n\u001b[0;32m-> 1285\u001b[0m     \u001b[39mself\u001b[39;49m\u001b[39m.\u001b[39;49m_send_request(method, url, body, headers, encode_chunked)\n",
      "File \u001b[0;32m~/opt/miniconda3/envs/text-mine/lib/python3.9/http/client.py:1331\u001b[0m, in \u001b[0;36mHTTPConnection._send_request\u001b[0;34m(self, method, url, body, headers, encode_chunked)\u001b[0m\n\u001b[1;32m   1327\u001b[0m \u001b[39mif\u001b[39;00m \u001b[39misinstance\u001b[39m(body, \u001b[39mstr\u001b[39m):\n\u001b[1;32m   1328\u001b[0m     \u001b[39m# RFC 2616 Section 3.7.1 says that text default has a\u001b[39;00m\n\u001b[1;32m   1329\u001b[0m     \u001b[39m# default charset of iso-8859-1.\u001b[39;00m\n\u001b[1;32m   1330\u001b[0m     body \u001b[39m=\u001b[39m _encode(body, \u001b[39m'\u001b[39m\u001b[39mbody\u001b[39m\u001b[39m'\u001b[39m)\n\u001b[0;32m-> 1331\u001b[0m \u001b[39mself\u001b[39;49m\u001b[39m.\u001b[39;49mendheaders(body, encode_chunked\u001b[39m=\u001b[39;49mencode_chunked)\n",
      "File \u001b[0;32m~/opt/miniconda3/envs/text-mine/lib/python3.9/http/client.py:1280\u001b[0m, in \u001b[0;36mHTTPConnection.endheaders\u001b[0;34m(self, message_body, encode_chunked)\u001b[0m\n\u001b[1;32m   1278\u001b[0m \u001b[39melse\u001b[39;00m:\n\u001b[1;32m   1279\u001b[0m     \u001b[39mraise\u001b[39;00m CannotSendHeader()\n\u001b[0;32m-> 1280\u001b[0m \u001b[39mself\u001b[39;49m\u001b[39m.\u001b[39;49m_send_output(message_body, encode_chunked\u001b[39m=\u001b[39;49mencode_chunked)\n",
      "File \u001b[0;32m~/opt/miniconda3/envs/text-mine/lib/python3.9/http/client.py:1040\u001b[0m, in \u001b[0;36mHTTPConnection._send_output\u001b[0;34m(self, message_body, encode_chunked)\u001b[0m\n\u001b[1;32m   1038\u001b[0m msg \u001b[39m=\u001b[39m \u001b[39mb\u001b[39m\u001b[39m\"\u001b[39m\u001b[39m\\r\u001b[39;00m\u001b[39m\\n\u001b[39;00m\u001b[39m\"\u001b[39m\u001b[39m.\u001b[39mjoin(\u001b[39mself\u001b[39m\u001b[39m.\u001b[39m_buffer)\n\u001b[1;32m   1039\u001b[0m \u001b[39mdel\u001b[39;00m \u001b[39mself\u001b[39m\u001b[39m.\u001b[39m_buffer[:]\n\u001b[0;32m-> 1040\u001b[0m \u001b[39mself\u001b[39;49m\u001b[39m.\u001b[39;49msend(msg)\n\u001b[1;32m   1042\u001b[0m \u001b[39mif\u001b[39;00m message_body \u001b[39mis\u001b[39;00m \u001b[39mnot\u001b[39;00m \u001b[39mNone\u001b[39;00m:\n\u001b[1;32m   1043\u001b[0m \n\u001b[1;32m   1044\u001b[0m     \u001b[39m# create a consistent interface to message_body\u001b[39;00m\n\u001b[1;32m   1045\u001b[0m     \u001b[39mif\u001b[39;00m \u001b[39mhasattr\u001b[39m(message_body, \u001b[39m'\u001b[39m\u001b[39mread\u001b[39m\u001b[39m'\u001b[39m):\n\u001b[1;32m   1046\u001b[0m         \u001b[39m# Let file-like take precedence over byte-like.  This\u001b[39;00m\n\u001b[1;32m   1047\u001b[0m         \u001b[39m# is needed to allow the current position of mmap'ed\u001b[39;00m\n\u001b[1;32m   1048\u001b[0m         \u001b[39m# files to be taken into account.\u001b[39;00m\n",
      "File \u001b[0;32m~/opt/miniconda3/envs/text-mine/lib/python3.9/http/client.py:980\u001b[0m, in \u001b[0;36mHTTPConnection.send\u001b[0;34m(self, data)\u001b[0m\n\u001b[1;32m    978\u001b[0m \u001b[39mif\u001b[39;00m \u001b[39mself\u001b[39m\u001b[39m.\u001b[39msock \u001b[39mis\u001b[39;00m \u001b[39mNone\u001b[39;00m:\n\u001b[1;32m    979\u001b[0m     \u001b[39mif\u001b[39;00m \u001b[39mself\u001b[39m\u001b[39m.\u001b[39mauto_open:\n\u001b[0;32m--> 980\u001b[0m         \u001b[39mself\u001b[39;49m\u001b[39m.\u001b[39;49mconnect()\n\u001b[1;32m    981\u001b[0m     \u001b[39melse\u001b[39;00m:\n\u001b[1;32m    982\u001b[0m         \u001b[39mraise\u001b[39;00m NotConnected()\n",
      "File \u001b[0;32m~/opt/miniconda3/envs/text-mine/lib/python3.9/http/client.py:1454\u001b[0m, in \u001b[0;36mHTTPSConnection.connect\u001b[0;34m(self)\u001b[0m\n\u001b[1;32m   1451\u001b[0m \u001b[39melse\u001b[39;00m:\n\u001b[1;32m   1452\u001b[0m     server_hostname \u001b[39m=\u001b[39m \u001b[39mself\u001b[39m\u001b[39m.\u001b[39mhost\n\u001b[0;32m-> 1454\u001b[0m \u001b[39mself\u001b[39m\u001b[39m.\u001b[39msock \u001b[39m=\u001b[39m \u001b[39mself\u001b[39;49m\u001b[39m.\u001b[39;49m_context\u001b[39m.\u001b[39;49mwrap_socket(\u001b[39mself\u001b[39;49m\u001b[39m.\u001b[39;49msock,\n\u001b[1;32m   1455\u001b[0m                                       server_hostname\u001b[39m=\u001b[39;49mserver_hostname)\n",
      "File \u001b[0;32m~/opt/miniconda3/envs/text-mine/lib/python3.9/ssl.py:500\u001b[0m, in \u001b[0;36mSSLContext.wrap_socket\u001b[0;34m(self, sock, server_side, do_handshake_on_connect, suppress_ragged_eofs, server_hostname, session)\u001b[0m\n\u001b[1;32m    494\u001b[0m \u001b[39mdef\u001b[39;00m \u001b[39mwrap_socket\u001b[39m(\u001b[39mself\u001b[39m, sock, server_side\u001b[39m=\u001b[39m\u001b[39mFalse\u001b[39;00m,\n\u001b[1;32m    495\u001b[0m                 do_handshake_on_connect\u001b[39m=\u001b[39m\u001b[39mTrue\u001b[39;00m,\n\u001b[1;32m    496\u001b[0m                 suppress_ragged_eofs\u001b[39m=\u001b[39m\u001b[39mTrue\u001b[39;00m,\n\u001b[1;32m    497\u001b[0m                 server_hostname\u001b[39m=\u001b[39m\u001b[39mNone\u001b[39;00m, session\u001b[39m=\u001b[39m\u001b[39mNone\u001b[39;00m):\n\u001b[1;32m    498\u001b[0m     \u001b[39m# SSLSocket class handles server_hostname encoding before it calls\u001b[39;00m\n\u001b[1;32m    499\u001b[0m     \u001b[39m# ctx._wrap_socket()\u001b[39;00m\n\u001b[0;32m--> 500\u001b[0m     \u001b[39mreturn\u001b[39;00m \u001b[39mself\u001b[39;49m\u001b[39m.\u001b[39;49msslsocket_class\u001b[39m.\u001b[39;49m_create(\n\u001b[1;32m    501\u001b[0m         sock\u001b[39m=\u001b[39;49msock,\n\u001b[1;32m    502\u001b[0m         server_side\u001b[39m=\u001b[39;49mserver_side,\n\u001b[1;32m    503\u001b[0m         do_handshake_on_connect\u001b[39m=\u001b[39;49mdo_handshake_on_connect,\n\u001b[1;32m    504\u001b[0m         suppress_ragged_eofs\u001b[39m=\u001b[39;49msuppress_ragged_eofs,\n\u001b[1;32m    505\u001b[0m         server_hostname\u001b[39m=\u001b[39;49mserver_hostname,\n\u001b[1;32m    506\u001b[0m         context\u001b[39m=\u001b[39;49m\u001b[39mself\u001b[39;49m,\n\u001b[1;32m    507\u001b[0m         session\u001b[39m=\u001b[39;49msession\n\u001b[1;32m    508\u001b[0m     )\n",
      "File \u001b[0;32m~/opt/miniconda3/envs/text-mine/lib/python3.9/ssl.py:1040\u001b[0m, in \u001b[0;36mSSLSocket._create\u001b[0;34m(cls, sock, server_side, do_handshake_on_connect, suppress_ragged_eofs, server_hostname, context, session)\u001b[0m\n\u001b[1;32m   1037\u001b[0m         \u001b[39mif\u001b[39;00m timeout \u001b[39m==\u001b[39m \u001b[39m0.0\u001b[39m:\n\u001b[1;32m   1038\u001b[0m             \u001b[39m# non-blocking\u001b[39;00m\n\u001b[1;32m   1039\u001b[0m             \u001b[39mraise\u001b[39;00m \u001b[39mValueError\u001b[39;00m(\u001b[39m\"\u001b[39m\u001b[39mdo_handshake_on_connect should not be specified for non-blocking sockets\u001b[39m\u001b[39m\"\u001b[39m)\n\u001b[0;32m-> 1040\u001b[0m         \u001b[39mself\u001b[39;49m\u001b[39m.\u001b[39;49mdo_handshake()\n\u001b[1;32m   1041\u001b[0m \u001b[39mexcept\u001b[39;00m (\u001b[39mOSError\u001b[39;00m, \u001b[39mValueError\u001b[39;00m):\n\u001b[1;32m   1042\u001b[0m     \u001b[39mself\u001b[39m\u001b[39m.\u001b[39mclose()\n",
      "File \u001b[0;32m~/opt/miniconda3/envs/text-mine/lib/python3.9/ssl.py:1309\u001b[0m, in \u001b[0;36mSSLSocket.do_handshake\u001b[0;34m(self, block)\u001b[0m\n\u001b[1;32m   1307\u001b[0m     \u001b[39mif\u001b[39;00m timeout \u001b[39m==\u001b[39m \u001b[39m0.0\u001b[39m \u001b[39mand\u001b[39;00m block:\n\u001b[1;32m   1308\u001b[0m         \u001b[39mself\u001b[39m\u001b[39m.\u001b[39msettimeout(\u001b[39mNone\u001b[39;00m)\n\u001b[0;32m-> 1309\u001b[0m     \u001b[39mself\u001b[39;49m\u001b[39m.\u001b[39;49m_sslobj\u001b[39m.\u001b[39;49mdo_handshake()\n\u001b[1;32m   1310\u001b[0m \u001b[39mfinally\u001b[39;00m:\n\u001b[1;32m   1311\u001b[0m     \u001b[39mself\u001b[39m\u001b[39m.\u001b[39msettimeout(timeout)\n",
      "\u001b[0;31mKeyboardInterrupt\u001b[0m: "
     ]
    }
   ],
   "source": [
    "go = True\n",
    "while go:\n",
    "    time_price_data()\n",
    "    time.sleep(0.5)"
   ]
  },
  {
   "cell_type": "code",
   "execution_count": 4,
   "metadata": {},
   "outputs": [
    {
     "data": {
      "text/plain": [
       "[['10/06/2022', '10:32:46', 'WBTC/USD', 20035.21],\n",
       " ['10/06/2022', '10:32:47', 'WBTC/USD', 20035.17],\n",
       " ['10/06/2022', '10:32:48', 'WBTC/USD', 20035.05],\n",
       " ['10/06/2022', '10:32:49', 'WBTC/USD', 20035.0],\n",
       " ['10/06/2022', '10:32:50', 'WBTC/USD', 20035.0]]"
      ]
     },
     "execution_count": 4,
     "metadata": {},
     "output_type": "execute_result"
    }
   ],
   "source": [
    "wbtc_data[0:5]"
   ]
  },
  {
   "cell_type": "code",
   "execution_count": 7,
   "metadata": {},
   "outputs": [],
   "source": [
    "col_names = [['Date','Time','Pair','Price']]\n",
    "\n",
    "#Formatting data and creating an CSV file and dataframe\n",
    "with open('data.txt','w') as f:\n",
    "    write = csv.writer(f)\n",
    "    write.writerows(col_names)\n",
    "    write.writerows(wbtc_data)\n",
    "\n",
    "read_file = pd.read_csv('data.txt')\n",
    "read_file.to_csv('data.csv', index=None)\n",
    "df = pd.DataFrame(pd.read_csv('data.txt'))"
   ]
  },
  {
   "cell_type": "code",
   "execution_count": 9,
   "metadata": {},
   "outputs": [],
   "source": [
    "f.close()"
   ]
  },
  {
   "cell_type": "code",
   "execution_count": 143,
   "metadata": {},
   "outputs": [],
   "source": [
    "def plot_rate(dtt): \n",
    "    #will write for btc but ALSO will functionalize\n",
    "    open = 0\n",
    "    opens = {}\n",
    "    closes = {}\n",
    "    highs = {}\n",
    "    lows = {}\n",
    "    average = 0\n",
    "    range_values = []\n",
    "\n",
    "    dt = dtt  #time interval(60 for 1m, 300 for 5m)\n",
    "\n",
    "    # prices = df.loc[:,'Price']\n",
    "    for i in range(df.shape[0]):\n",
    "    # for i in range(106):\n",
    "        t = df.iloc[i,1] #time\n",
    "        if i+dt <= df.shape[0]: #required ammo for new candle\n",
    "            dp = df.iloc[i,-1] #new price\n",
    "\n",
    "            # if i!=0:\n",
    "            range_values.append(dp)\n",
    "            #Open and Close values\n",
    "            if i % dt == 0: #new candle\n",
    "                open = dp\n",
    "                opens[t] = open\n",
    "                if i != 0: #close is last value of interval\n",
    "                    close = df.iloc[i+dt-1,-1]\n",
    "                    closes[t] = close\n",
    "                    lows[t] = np.min(range_values) #---low at end of interval t, NOT WHEN low occurs, important distinction \n",
    "                    highs[t] = np.max(range_values)\n",
    "                    # print('Min/Max:',np.min(range_values),np.max(range_values))\n",
    "                    # print(i,t,range_values)\n",
    "                    # print('len:',len(range_values))\n",
    "                    range_values = [] #reset for next interval\n",
    "        else:  \n",
    "            #---Since open is first, there'll be 1 more value in open than close/low/high, so we'll pad close with current open(0 difference)\n",
    "            gen_time = str((datetime.strptime(list(opens.keys())[-1],'%I:%M:%S') + timedelta(seconds=dt)).time())\n",
    "            closes[gen_time] = opens[list(opens.keys())[-1]]\n",
    "            lows[gen_time] = lows[list(lows.keys())[-1]]\n",
    "            highs[gen_time] = highs[list(highs.keys())[-1]]\n",
    "            break\n",
    "\n",
    "    open_data = list(opens.values())\n",
    "    high_data = list(highs.values())\n",
    "    low_data = list(lows.values())\n",
    "    close_data = list(closes.values())\n",
    "    times = list(opens.keys())\n",
    "\n",
    "\n",
    "    fig = go.Figure(data=[go.Candlestick(x=times,\n",
    "                        open=open_data, high=high_data,\n",
    "                        low=low_data, close=close_data)])\n",
    "\n",
    "    fig.show()"
   ]
  },
  {
   "cell_type": "code",
   "execution_count": 144,
   "metadata": {},
   "outputs": [
    {
     "data": {
      "application/vnd.plotly.v1+json": {
       "config": {
        "plotlyServerURL": "https://plot.ly"
       },
       "data": [
        {
         "close": [
          20035,
          20035,
          20036.97,
          20036.38,
          20034.83017429,
          20034.83017429,
          20034.83017429,
          20034.83017429,
          20034.83017429,
          20035,
          20035,
          20036,
          20036,
          20036,
          20036,
          20036,
          20036,
          20028.94647138,
          20036,
          20029.86,
          20030.29,
          20032.07131583,
          20032.07131583,
          20032.07131583,
          20032.07131583,
          20033,
          20033,
          20031,
          20031,
          20035,
          20035,
          20035.48,
          20035.5,
          20035.41,
          20036.62,
          20038.4,
          20036.75839929,
          20036.75839929,
          20036.75839929,
          20036.75839929,
          20036.75839929,
          20031,
          20034,
          20031.87,
          20032,
          20032,
          20036.09,
          20033.68,
          20034.12,
          20034.19,
          20034.1,
          20035.04,
          20038,
          20038,
          20038.12,
          20039.00509078,
          20039.00509078,
          20039.00509078,
          20039.00509078,
          20040.12271516,
          20040.12271516,
          20040.12271516,
          20040.12271516,
          20040.92,
          20043.43,
          20040,
          20044.14,
          20045.56,
          20046,
          20047,
          20047.85,
          20050,
          20050,
          20049,
          20049,
          20049,
          20046.48,
          20049,
          20050,
          20051,
          20051.7,
          20053,
          20053,
          20053,
          20053,
          20053,
          20051,
          20051,
          20048.33878329,
          20045,
          20044,
          20048.33878329,
          20048,
          20044,
          20043,
          20043,
          20043,
          20043,
          20044,
          20044,
          20044.17726828,
          20044.17726828,
          20044.17726828,
          20044.17726828,
          20044.17726828,
          20044,
          20044,
          20044,
          20044,
          20042,
          20042,
          20044,
          20044,
          20044,
          20044,
          20044,
          20040,
          20040,
          20040,
          20040,
          20040,
          20040,
          20040,
          20040,
          20040.49476166,
          20040.49476166,
          20040,
          20038.69,
          20038,
          20041,
          20042,
          20042,
          20042,
          20042,
          20034.14586075,
          20034.14586075,
          20034.14586075,
          20024,
          20034.14586075,
          20034.14586075,
          20028,
          20029,
          20028.62738239,
          20029,
          20030,
          20028.62738239,
          20028,
          20029.65,
          20028.72872922,
          20028.72872922,
          20028.72872922,
          20031.22,
          20031.3,
          20031.6,
          20034,
          20034,
          20033,
          20033,
          20033,
          20033,
          20033,
          20033.05,
          20032.89,
          20036,
          20035.03,
          20034.43,
          20036,
          20032.74,
          20031,
          20034.57,
          20035.71,
          20032.46,
          20037,
          20037,
          20037,
          20037,
          20033,
          20038,
          20032.76624116,
          20032.76624116,
          20032,
          20032,
          20032,
          20032,
          20032,
          20027,
          20027,
          20027,
          20029,
          20024,
          20029,
          20025.17693792,
          20024,
          20024,
          20024,
          20019,
          20022,
          20022,
          20019,
          20020,
          20020,
          20020,
          20020,
          20019,
          20019,
          20020,
          20020,
          20020,
          20019,
          20021.17,
          20020.79,
          20021,
          20021,
          20021,
          20022,
          20021,
          20022,
          20022,
          20022,
          20021,
          20021,
          20021,
          20021,
          20021,
          20021,
          20021,
          20021,
          20021,
          20017,
          20015,
          20015,
          20016,
          20015,
          20016,
          20016,
          20015,
          20015,
          20014,
          20014,
          20014,
          20014,
          20014,
          20013,
          20013,
          20013,
          20014,
          20014,
          20014,
          20014,
          20014,
          20013,
          20013,
          20009,
          20009,
          20009,
          20011.21,
          20012,
          20011,
          20011,
          20012,
          20012,
          20012,
          20012,
          20012,
          20012.38,
          20013.2,
          20013.44,
          20016,
          20016,
          20016,
          20016,
          20015,
          20016,
          20016,
          20016,
          20015,
          20016,
          20016,
          20018,
          20015,
          20018,
          20018,
          20018,
          20018.01,
          20018,
          20019,
          20018.26,
          20021,
          20021,
          20021,
          20021,
          20021,
          20020.96,
          20023.73343711,
          20020,
          20024,
          20024,
          20023,
          20023,
          20022,
          20022,
          20019,
          20015,
          20015,
          20015,
          20014,
          20015.19,
          20016,
          20014,
          20016,
          20016,
          20016,
          20016,
          20016,
          20015,
          20015,
          20015,
          20015,
          20015,
          20015,
          20015.17988551,
          20017,
          20017,
          20017,
          20016,
          20016,
          20016,
          20016,
          20015,
          20015,
          20015,
          20015,
          20013,
          20013,
          20013.80014678,
          20015.18,
          20016,
          20016,
          20016.3,
          20016.25,
          20018,
          20018,
          20019,
          20019,
          20019,
          20017.2494936,
          20019,
          20019,
          20017.63,
          20017.23,
          20017.2494936,
          20018,
          20018,
          20018,
          20018,
          20018,
          20018,
          20018.44,
          20019,
          20019,
          20019,
          20024,
          20024,
          20024,
          20024,
          20024,
          20024,
          20024,
          20024.21,
          20024.73,
          20026,
          20026,
          20027.57,
          20028.19,
          20027.68
         ],
         "high": [
          20035.21,
          20035.79,
          20035.5,
          20036.97,
          20039.27,
          20036.03,
          20034.83017429,
          20034.83017429,
          20034.83017429,
          20034.83017429,
          20035.01,
          20035,
          20036,
          20036,
          20036,
          20036,
          20036,
          20036,
          20036,
          20036,
          20030.53,
          20032.07131583,
          20032.07131583,
          20032.07131583,
          20032.07131583,
          20032.07131583,
          20033,
          20033,
          20033,
          20031,
          20035,
          20035,
          20035.48,
          20036.51,
          20035.41,
          20037.3,
          20038.4,
          20036.75839929,
          20036.75839929,
          20036.75839929,
          20036.75839929,
          20036.75839929,
          20036.75839929,
          20036.75839929,
          20033.62,
          20032,
          20032.51,
          20036.09,
          20035.06,
          20035.18,
          20034.86,
          20035,
          20035.39,
          20039.19,
          20038,
          20038.67,
          20039.00509078,
          20039.00509078,
          20039.00509078,
          20040.12271516,
          20040.12271516,
          20040.12271516,
          20040.12271516,
          20041.04,
          20043.09,
          20043.43,
          20042.09,
          20045.1,
          20046.74,
          20047,
          20047,
          20050,
          20050,
          20050,
          20049,
          20049,
          20049,
          20049,
          20049,
          20053,
          20051,
          20053,
          20053,
          20053,
          20053,
          20053,
          20053,
          20051,
          20051,
          20048.33878329,
          20048.33878329,
          20048.33878329,
          20048.33878329,
          20048,
          20048,
          20044,
          20043,
          20043,
          20043.14,
          20044.17726828,
          20044,
          20044.17726828,
          20044.17726828,
          20044.17726828,
          20044.17726828,
          20044.17726828,
          20044.17726828,
          20044,
          20044.17726828,
          20044,
          20042,
          20042,
          20044,
          20044,
          20044,
          20044,
          20044,
          20040,
          20040,
          20040,
          20040,
          20040,
          20040,
          20040,
          20040,
          20040.49476166,
          20040.49476166,
          20040,
          20038.78,
          20038,
          20041,
          20042,
          20042,
          20042,
          20042,
          20034.14586075,
          20034.14586075,
          20034.14586075,
          20034.14586075,
          20034.14586075,
          20034.14586075,
          20029,
          20029,
          20028.62738239,
          20029,
          20030.01,
          20030,
          20028,
          20029.81,
          20028.72872922,
          20028.88,
          20031.99,
          20033,
          20032.01,
          20034,
          20034.06,
          20034,
          20033,
          20033,
          20033,
          20033,
          20033,
          20033.05,
          20033.2,
          20036,
          20036,
          20036,
          20036,
          20033.71,
          20032.93,
          20037,
          20036.41,
          20037,
          20037,
          20037,
          20037,
          20037,
          20038,
          20038,
          20038,
          20032.76624116,
          20032.76624116,
          20032,
          20032,
          20032,
          20032,
          20032,
          20027,
          20029,
          20029,
          20029,
          20029,
          20029,
          20024,
          20024,
          20024,
          20025,
          20022,
          20022,
          20020,
          20020,
          20020,
          20020,
          20020,
          20019,
          20019,
          20020,
          20020,
          20020,
          20020.82,
          20021.17,
          20021.29193997,
          20021,
          20021,
          20022,
          20022,
          20022,
          20022,
          20022,
          20022,
          20021,
          20021,
          20021,
          20021,
          20021,
          20021,
          20021,
          20021,
          20021,
          20017,
          20015,
          20015,
          20016,
          20016,
          20016,
          20016,
          20015,
          20015,
          20015,
          20014,
          20014,
          20014,
          20014,
          20014,
          20013,
          20013,
          20014,
          20014,
          20014,
          20014,
          20014,
          20014,
          20013,
          20013,
          20009,
          20010.06,
          20011.76,
          20012,
          20012,
          20012,
          20012,
          20012,
          20012,
          20012.4,
          20012.62,
          20013.31,
          20013.2,
          20013.44,
          20016,
          20016,
          20016,
          20016,
          20016,
          20016,
          20016,
          20016,
          20017,
          20016,
          20016,
          20019,
          20015,
          20018,
          20018,
          20018,
          20018.01,
          20019,
          20019,
          20019,
          20021,
          20021,
          20021,
          20021,
          20023.73343711,
          20021.1,
          20023.73343711,
          20020.13,
          20024,
          20024,
          20024,
          20023,
          20023,
          20022,
          20019,
          20015,
          20015,
          20015,
          20014,
          20016,
          20016,
          20016,
          20016,
          20016,
          20016,
          20016,
          20016,
          20015,
          20015,
          20015.17988551,
          20015.01,
          20015,
          20015.17988551,
          20015.17988551,
          20017,
          20017,
          20017,
          20016,
          20016,
          20016,
          20016,
          20016,
          20015,
          20015,
          20015.48,
          20016,
          20013,
          20013.80014678,
          20015.51,
          20016.15,
          20016,
          20016.7,
          20017.7,
          20018,
          20018,
          20019,
          20019,
          20019,
          20018,
          20019,
          20019,
          20019,
          20017.2494936,
          20018,
          20018,
          20018,
          20018,
          20018,
          20018,
          20018.33,
          20018.44,
          20019,
          20024,
          20019,
          20024,
          20024,
          20024,
          20024,
          20024,
          20024,
          20024,
          20024.36,
          20025.49,
          20026.27827011,
          20027,
          20027.68,
          20027.68
         ],
         "low": [
          20035,
          20035,
          20035,
          20035,
          20036.38,
          20034.83017429,
          20034.83017429,
          20034.83017429,
          20034.83017429,
          20034.83017429,
          20035,
          20035,
          20036,
          20036,
          20036,
          20036,
          20033,
          20036,
          20028.94647138,
          20034,
          20029.35,
          20029.95,
          20032.07131583,
          20032.07131583,
          20032.07131583,
          20032.07131583,
          20032.07131583,
          20033,
          20031,
          20031,
          20031,
          20035,
          20035,
          20035.05,
          20034.18,
          20035.74,
          20036.75839929,
          20036.75839929,
          20036.75839929,
          20036.75839929,
          20036.75839929,
          20036.75839929,
          20031,
          20034,
          20031.7,
          20031,
          20032,
          20032,
          20033.68,
          20034.12,
          20033.54,
          20034.1,
          20035,
          20037,
          20038,
          20037.87,
          20039,
          20039.00509078,
          20039.00509078,
          20039.00509078,
          20040.12271516,
          20040.12271516,
          20040.12271516,
          20040,
          20040.3,
          20040.23,
          20040,
          20040,
          20044.55,
          20046,
          20046,
          20047,
          20050,
          20049,
          20049,
          20049,
          20049,
          20046.48,
          20049,
          20050,
          20050,
          20050.82,
          20053,
          20053,
          20053,
          20053,
          20053,
          20051,
          20048.33878329,
          20048.33878329,
          20045,
          20044,
          20048,
          20043,
          20043,
          20043,
          20043,
          20043,
          20043,
          20044,
          20044,
          20044,
          20044.17726828,
          20044.17726828,
          20044.17726828,
          20044.17726828,
          20044,
          20042,
          20044,
          20042.08,
          20042,
          20042,
          20042,
          20044,
          20040,
          20044,
          20040,
          20040,
          20040,
          20040,
          20040,
          20040,
          20040,
          20040,
          20040,
          20038,
          20038,
          20035,
          20038,
          20036.21,
          20036.77,
          20042,
          20042,
          20042,
          20042,
          20034.14586075,
          20034.14586075,
          20034.14586075,
          20024,
          20030,
          20034.14586075,
          20028,
          20028,
          20028.62738239,
          20029,
          20029,
          20028.62738239,
          20028,
          20028,
          20028.72872922,
          20028.72872922,
          20028.72872922,
          20031.22,
          20031.29,
          20031.29,
          20034,
          20033,
          20033,
          20033,
          20033,
          20033,
          20033,
          20032.58,
          20031.67023733,
          20032.25,
          20034.96,
          20033.51,
          20033.7,
          20032.72,
          20031,
          20032.36,
          20033.57,
          20031.97,
          20037,
          20037,
          20037,
          20037,
          20033,
          20038,
          20032.76624116,
          20032.76624116,
          20032,
          20032,
          20031,
          20032,
          20030,
          20027,
          20027,
          20027,
          20029,
          20024,
          20029,
          20025.17693792,
          20024,
          20024,
          20024,
          20019,
          20022,
          20022,
          20019,
          20019,
          20020,
          20020,
          20020,
          20019,
          20019,
          20020,
          20020,
          20019,
          20019,
          20019,
          20020.79,
          20020.53,
          20021,
          20021,
          20022,
          20021,
          20022,
          20022,
          20021,
          20021,
          20021,
          20021,
          20021,
          20021,
          20021,
          20020,
          20016,
          20015,
          20015,
          20015,
          20015,
          20015,
          20015,
          20016,
          20016,
          20015,
          20015,
          20014,
          20014,
          20013,
          20014,
          20014,
          20013,
          20013,
          20013,
          20013,
          20014,
          20014,
          20014,
          20014,
          20010,
          20013,
          20009,
          20009,
          20009,
          20010.33,
          20011.13,
          20011,
          20011,
          20012,
          20012,
          20012,
          20012,
          20012,
          20012,
          20012.58,
          20012.32,
          20016,
          20016,
          20015,
          20016,
          20015,
          20015,
          20015,
          20016,
          20015,
          20015.67,
          20015,
          20015,
          20015,
          20015,
          20018,
          20018,
          20018,
          20018,
          20018.6,
          20018.26,
          20021,
          20021,
          20020,
          20021,
          20021,
          20020.96,
          20021.69,
          20020,
          20023.73343711,
          20024,
          20022,
          20023,
          20022,
          20019,
          20015,
          20015,
          20015,
          20014,
          20014,
          20014,
          20014,
          20014,
          20016,
          20016,
          20016,
          20016,
          20015,
          20015,
          20015,
          20015,
          20015,
          20015,
          20015,
          20015.17988551,
          20015.17988551,
          20017,
          20017,
          20016,
          20016,
          20016,
          20016,
          20015,
          20015,
          20013,
          20015,
          20013,
          20013,
          20013,
          20013.80014678,
          20015.92,
          20016,
          20016,
          20016.06,
          20016.03,
          20018,
          20018,
          20019,
          20018,
          20017.2494936,
          20018,
          20018,
          20017,
          20017,
          20017.2494936,
          20017.2494936,
          20018,
          20017,
          20018,
          20018,
          20018,
          20017.16,
          20017.59,
          20019,
          20019,
          20019,
          20024,
          20024,
          20024,
          20024,
          20024,
          20024,
          20024,
          20024,
          20026,
          20026,
          20026.79,
          20026.79
         ],
         "open": [
          20035.21,
          20035.05,
          20035,
          20035,
          20036.97,
          20036.91,
          20034.83017429,
          20034.83017429,
          20034.83017429,
          20034.83017429,
          20034.83017429,
          20035,
          20035,
          20036,
          20036,
          20036,
          20036,
          20033,
          20036,
          20036,
          20036,
          20030.01,
          20032.07131583,
          20032.07131583,
          20032.07131583,
          20032.07131583,
          20032.07131583,
          20033,
          20033,
          20031,
          20031,
          20035,
          20035,
          20035.12,
          20035.05,
          20034.58,
          20037.3,
          20036.75839929,
          20036.75839929,
          20036.75839929,
          20036.75839929,
          20036.75839929,
          20036.75839929,
          20036.75839929,
          20036.75839929,
          20031.7,
          20031.91,
          20032.48,
          20033.91,
          20034.56,
          20034.86,
          20033.76,
          20035,
          20035.39,
          20038,
          20038,
          20038.67,
          20039.00509078,
          20039.00509078,
          20039.00509078,
          20040.12271516,
          20040.12271516,
          20040.12271516,
          20040.12271516,
          20040,
          20040.3,
          20041.73,
          20040,
          20045.1,
          20046.74,
          20046,
          20047,
          20050,
          20050,
          20049,
          20049,
          20049,
          20049,
          20049,
          20049,
          20050,
          20051,
          20053,
          20053,
          20053,
          20053,
          20053,
          20053,
          20051,
          20051,
          20048.33878329,
          20048.33878329,
          20048.33878329,
          20048,
          20043,
          20043,
          20044,
          20043,
          20043,
          20043,
          20044,
          20044,
          20044.17726828,
          20044.17726828,
          20044.17726828,
          20044.17726828,
          20044.17726828,
          20044,
          20044,
          20044,
          20042.08,
          20042,
          20042,
          20044,
          20044,
          20044,
          20044,
          20041.94044457,
          20040,
          20040,
          20040,
          20040,
          20040,
          20040,
          20040,
          20040,
          20040.49476166,
          20040,
          20040,
          20038,
          20036.21,
          20041,
          20042,
          20042,
          20042,
          20042,
          20034.14586075,
          20034.14586075,
          20034.14586075,
          20028,
          20034.14586075,
          20034.14586075,
          20028,
          20029,
          20028.62738239,
          20029,
          20030.01,
          20028.62738239,
          20028,
          20029.81,
          20028.72872922,
          20028.72872922,
          20031.99,
          20033,
          20031.29,
          20034,
          20034,
          20033,
          20033,
          20033,
          20033,
          20033,
          20033,
          20032.58,
          20031.89,
          20036,
          20034.96,
          20034,
          20033.7,
          20032.96,
          20031.8,
          20035.69,
          20033.57,
          20037,
          20037,
          20037,
          20037,
          20037,
          20033,
          20038,
          20032.76624116,
          20032.76624116,
          20032,
          20032,
          20031,
          20032,
          20030,
          20027,
          20027,
          20029,
          20029,
          20029,
          20029,
          20025.17693792,
          20024,
          20024,
          20024,
          20022,
          20022,
          20022,
          20020,
          20020,
          20020,
          20020,
          20020,
          20019,
          20019,
          20020,
          20020,
          20019,
          20019,
          20020.56,
          20020.88,
          20021,
          20021,
          20022,
          20022,
          20021,
          20022,
          20022,
          20021,
          20021,
          20021,
          20021,
          20021,
          20021,
          20021,
          20021,
          20021,
          20021,
          20015,
          20015,
          20015,
          20016,
          20016,
          20016,
          20016,
          20015,
          20015,
          20014,
          20014,
          20013,
          20014,
          20014,
          20013,
          20013,
          20013,
          20014,
          20014,
          20014,
          20014,
          20014,
          20013,
          20013,
          20009,
          20009,
          20009,
          20011.76,
          20012,
          20012,
          20012,
          20012,
          20012,
          20012,
          20012,
          20012,
          20013.31,
          20012.58,
          20012.32,
          20016,
          20016,
          20016,
          20016,
          20015,
          20016,
          20016,
          20016,
          20017,
          20016,
          20015,
          20015,
          20015,
          20018,
          20018,
          20018,
          20018,
          20018,
          20019,
          20018.26,
          20021,
          20021,
          20020,
          20021,
          20021,
          20021.1,
          20023.73343711,
          20020,
          20024,
          20024,
          20023,
          20023,
          20022,
          20019,
          20015,
          20015,
          20015,
          20014,
          20014,
          20014,
          20014,
          20016,
          20016,
          20016,
          20016,
          20016,
          20015,
          20015,
          20015,
          20015.17988551,
          20015,
          20015,
          20015.17988551,
          20015.17988551,
          20017,
          20017,
          20017,
          20016,
          20016,
          20016,
          20016,
          20015,
          20015,
          20015,
          20015.48,
          20013,
          20013,
          20013.80014678,
          20015.51,
          20016,
          20016,
          20016.7,
          20017.7,
          20018,
          20018,
          20019,
          20019,
          20018,
          20018,
          20019,
          20019,
          20017.2494936,
          20017.2494936,
          20018,
          20018,
          20018,
          20018,
          20018,
          20018,
          20018.33,
          20018.13,
          20019,
          20024,
          20019,
          20024,
          20024,
          20024,
          20024,
          20024,
          20024,
          20024,
          20024,
          20025.49,
          20026,
          20027,
          20027.68
         ],
         "type": "candlestick",
         "x": [
          "10:32:46",
          "10:32:51",
          "10:32:57",
          "10:33:03",
          "10:33:08",
          "10:33:13",
          "10:33:19",
          "10:33:25",
          "10:33:30",
          "10:33:36",
          "10:33:42",
          "10:33:47",
          "10:33:53",
          "10:33:58",
          "10:34:04",
          "10:34:10",
          "10:34:15",
          "10:34:20",
          "10:34:26",
          "10:34:31",
          "10:34:37",
          "10:34:42",
          "10:34:48",
          "10:34:54",
          "10:35:00",
          "10:35:05",
          "10:35:11",
          "10:35:16",
          "10:35:21",
          "10:35:27",
          "10:35:33",
          "10:35:39",
          "10:35:44",
          "10:35:50",
          "10:35:56",
          "10:36:01",
          "10:36:07",
          "10:36:12",
          "10:36:18",
          "10:36:23",
          "10:36:29",
          "10:36:35",
          "10:36:40",
          "10:36:46",
          "10:36:51",
          "10:36:56",
          "10:37:02",
          "10:37:07",
          "10:37:13",
          "10:37:19",
          "10:37:24",
          "10:37:30",
          "10:37:36",
          "10:37:41",
          "10:37:47",
          "10:37:51",
          "10:37:57",
          "10:38:03",
          "10:38:09",
          "10:38:14",
          "10:38:20",
          "10:38:25",
          "10:38:31",
          "10:38:37",
          "10:38:42",
          "10:38:47",
          "10:38:52",
          "10:38:58",
          "10:39:03",
          "10:39:08",
          "10:39:14",
          "10:39:19",
          "10:39:25",
          "10:39:31",
          "10:39:37",
          "10:39:44",
          "10:39:49",
          "10:39:55",
          "10:40:01",
          "10:40:07",
          "10:40:12",
          "10:40:18",
          "10:40:23",
          "10:40:28",
          "10:40:34",
          "10:40:39",
          "10:40:47",
          "10:40:52",
          "10:40:58",
          "10:41:04",
          "10:41:10",
          "10:41:16",
          "10:41:21",
          "10:41:27",
          "10:41:33",
          "10:41:39",
          "10:41:45",
          "10:41:51",
          "10:41:57",
          "10:42:02",
          "10:42:07",
          "10:42:12",
          "10:42:18",
          "10:42:24",
          "10:42:29",
          "10:42:34",
          "10:42:39",
          "10:42:48",
          "10:42:53",
          "10:42:59",
          "10:43:04",
          "10:43:10",
          "10:43:15",
          "10:43:20",
          "10:43:26",
          "10:43:31",
          "10:43:37",
          "10:43:42",
          "10:43:48",
          "10:43:53",
          "10:43:59",
          "10:44:04",
          "10:44:10",
          "10:44:15",
          "10:44:20",
          "10:44:26",
          "10:44:31",
          "10:44:37",
          "10:44:42",
          "10:44:48",
          "10:44:54",
          "10:44:59",
          "10:45:05",
          "10:45:10",
          "10:45:15",
          "10:45:20",
          "10:45:25",
          "10:45:30",
          "10:45:36",
          "10:45:41",
          "10:45:48",
          "10:45:53",
          "10:45:58",
          "10:46:04",
          "10:46:09",
          "10:46:15",
          "10:46:20",
          "10:46:26",
          "10:46:31",
          "10:46:37",
          "10:46:43",
          "10:46:48",
          "10:46:54",
          "10:47:00",
          "10:47:05",
          "10:47:11",
          "10:47:16",
          "10:47:21",
          "10:47:27",
          "10:47:32",
          "10:47:38",
          "10:47:43",
          "10:47:49",
          "10:47:55",
          "10:48:01",
          "10:48:06",
          "10:48:11",
          "10:48:17",
          "10:48:22",
          "10:48:28",
          "10:48:33",
          "10:48:39",
          "10:48:44",
          "10:48:49",
          "10:48:55",
          "10:49:01",
          "10:49:07",
          "10:49:12",
          "10:49:17",
          "10:49:22",
          "10:49:26",
          "10:49:32",
          "10:49:41",
          "10:49:46",
          "10:49:52",
          "10:49:57",
          "10:50:03",
          "10:50:08",
          "10:50:14",
          "10:50:19",
          "10:50:25",
          "10:50:30",
          "10:50:36",
          "10:50:41",
          "10:50:47",
          "10:50:52",
          "10:50:58",
          "10:51:03",
          "10:51:09",
          "10:51:15",
          "10:51:20",
          "10:51:27",
          "10:51:32",
          "10:51:38",
          "10:51:47",
          "10:51:55",
          "10:52:00",
          "10:52:09",
          "10:52:13",
          "10:52:20",
          "10:52:26",
          "10:52:31",
          "10:52:37",
          "10:52:42",
          "10:52:47",
          "10:52:52",
          "10:52:57",
          "10:53:02",
          "10:53:07",
          "10:53:13",
          "10:53:19",
          "10:53:24",
          "10:53:30",
          "10:53:36",
          "10:53:42",
          "10:53:47",
          "10:53:52",
          "10:53:58",
          "10:54:03",
          "10:54:09",
          "10:54:14",
          "10:54:20",
          "10:54:25",
          "10:54:31",
          "10:54:37",
          "10:54:42",
          "10:54:48",
          "10:54:54",
          "10:54:59",
          "10:55:05",
          "10:55:11",
          "10:55:17",
          "10:55:23",
          "10:55:28",
          "10:55:34",
          "10:55:39",
          "10:55:45",
          "10:55:51",
          "10:55:56",
          "10:56:02",
          "10:56:07",
          "10:56:13",
          "10:56:19",
          "10:56:24",
          "10:56:29",
          "10:56:35",
          "10:56:41",
          "10:56:47",
          "10:56:53",
          "10:56:58",
          "10:57:04",
          "10:57:09",
          "10:57:15",
          "10:57:20",
          "10:57:26",
          "10:57:32",
          "10:57:37",
          "10:57:43",
          "10:57:48",
          "10:57:53",
          "10:57:59",
          "10:58:04",
          "10:58:10",
          "10:58:15",
          "10:58:20",
          "10:58:26",
          "10:58:31",
          "10:58:36",
          "10:58:41",
          "10:58:46",
          "10:58:52",
          "10:58:58",
          "10:59:03",
          "10:59:09",
          "10:59:17",
          "10:59:22",
          "10:59:28",
          "10:59:33",
          "10:59:39",
          "10:59:45",
          "10:59:50",
          "10:59:56",
          "11:00:01",
          "11:00:06",
          "11:00:11",
          "11:00:17",
          "11:00:22",
          "11:00:28",
          "11:00:33",
          "11:00:38",
          "11:00:44",
          "11:00:50",
          "11:00:54",
          "11:01:00",
          "11:01:06",
          "11:01:12",
          "11:01:17",
          "11:01:23",
          "11:01:29",
          "11:01:34",
          "11:01:38",
          "11:01:44",
          "11:01:49",
          "11:01:55",
          "11:02:00",
          "11:02:06",
          "11:02:11",
          "11:02:18",
          "11:02:23",
          "11:02:28",
          "11:02:34",
          "11:02:39",
          "11:02:44",
          "11:02:50",
          "11:02:55",
          "11:03:00",
          "11:03:04",
          "11:03:10",
          "11:03:15",
          "11:03:21",
          "11:03:26",
          "11:03:31",
          "11:03:37",
          "11:03:42",
          "11:03:48",
          "11:03:52",
          "11:03:58",
          "11:04:04",
          "11:04:09",
          "11:04:14",
          "11:04:19",
          "11:04:25",
          "11:04:30",
          "11:04:35",
          "11:04:41",
          "11:04:46",
          "11:04:51",
          "11:04:57",
          "11:05:02",
          "11:05:07",
          "11:05:13",
          "11:05:18",
          "11:05:23",
          "11:05:28",
          "11:05:34",
          "11:05:39",
          "11:05:45",
          "11:05:50",
          "11:05:55",
          "11:06:00",
          "11:06:04",
          "11:06:10",
          "11:06:16",
          "11:06:21",
          "11:06:26",
          "11:06:32",
          "11:06:37",
          "11:06:43",
          "11:06:48",
          "11:06:53",
          "11:06:59",
          "11:07:04",
          "11:07:09",
          "11:07:14",
          "11:07:20"
         ]
        }
       ],
       "layout": {
        "template": {
         "data": {
          "bar": [
           {
            "error_x": {
             "color": "#2a3f5f"
            },
            "error_y": {
             "color": "#2a3f5f"
            },
            "marker": {
             "line": {
              "color": "#E5ECF6",
              "width": 0.5
             },
             "pattern": {
              "fillmode": "overlay",
              "size": 10,
              "solidity": 0.2
             }
            },
            "type": "bar"
           }
          ],
          "barpolar": [
           {
            "marker": {
             "line": {
              "color": "#E5ECF6",
              "width": 0.5
             },
             "pattern": {
              "fillmode": "overlay",
              "size": 10,
              "solidity": 0.2
             }
            },
            "type": "barpolar"
           }
          ],
          "carpet": [
           {
            "aaxis": {
             "endlinecolor": "#2a3f5f",
             "gridcolor": "white",
             "linecolor": "white",
             "minorgridcolor": "white",
             "startlinecolor": "#2a3f5f"
            },
            "baxis": {
             "endlinecolor": "#2a3f5f",
             "gridcolor": "white",
             "linecolor": "white",
             "minorgridcolor": "white",
             "startlinecolor": "#2a3f5f"
            },
            "type": "carpet"
           }
          ],
          "choropleth": [
           {
            "colorbar": {
             "outlinewidth": 0,
             "ticks": ""
            },
            "type": "choropleth"
           }
          ],
          "contour": [
           {
            "colorbar": {
             "outlinewidth": 0,
             "ticks": ""
            },
            "colorscale": [
             [
              0,
              "#0d0887"
             ],
             [
              0.1111111111111111,
              "#46039f"
             ],
             [
              0.2222222222222222,
              "#7201a8"
             ],
             [
              0.3333333333333333,
              "#9c179e"
             ],
             [
              0.4444444444444444,
              "#bd3786"
             ],
             [
              0.5555555555555556,
              "#d8576b"
             ],
             [
              0.6666666666666666,
              "#ed7953"
             ],
             [
              0.7777777777777778,
              "#fb9f3a"
             ],
             [
              0.8888888888888888,
              "#fdca26"
             ],
             [
              1,
              "#f0f921"
             ]
            ],
            "type": "contour"
           }
          ],
          "contourcarpet": [
           {
            "colorbar": {
             "outlinewidth": 0,
             "ticks": ""
            },
            "type": "contourcarpet"
           }
          ],
          "heatmap": [
           {
            "colorbar": {
             "outlinewidth": 0,
             "ticks": ""
            },
            "colorscale": [
             [
              0,
              "#0d0887"
             ],
             [
              0.1111111111111111,
              "#46039f"
             ],
             [
              0.2222222222222222,
              "#7201a8"
             ],
             [
              0.3333333333333333,
              "#9c179e"
             ],
             [
              0.4444444444444444,
              "#bd3786"
             ],
             [
              0.5555555555555556,
              "#d8576b"
             ],
             [
              0.6666666666666666,
              "#ed7953"
             ],
             [
              0.7777777777777778,
              "#fb9f3a"
             ],
             [
              0.8888888888888888,
              "#fdca26"
             ],
             [
              1,
              "#f0f921"
             ]
            ],
            "type": "heatmap"
           }
          ],
          "heatmapgl": [
           {
            "colorbar": {
             "outlinewidth": 0,
             "ticks": ""
            },
            "colorscale": [
             [
              0,
              "#0d0887"
             ],
             [
              0.1111111111111111,
              "#46039f"
             ],
             [
              0.2222222222222222,
              "#7201a8"
             ],
             [
              0.3333333333333333,
              "#9c179e"
             ],
             [
              0.4444444444444444,
              "#bd3786"
             ],
             [
              0.5555555555555556,
              "#d8576b"
             ],
             [
              0.6666666666666666,
              "#ed7953"
             ],
             [
              0.7777777777777778,
              "#fb9f3a"
             ],
             [
              0.8888888888888888,
              "#fdca26"
             ],
             [
              1,
              "#f0f921"
             ]
            ],
            "type": "heatmapgl"
           }
          ],
          "histogram": [
           {
            "marker": {
             "pattern": {
              "fillmode": "overlay",
              "size": 10,
              "solidity": 0.2
             }
            },
            "type": "histogram"
           }
          ],
          "histogram2d": [
           {
            "colorbar": {
             "outlinewidth": 0,
             "ticks": ""
            },
            "colorscale": [
             [
              0,
              "#0d0887"
             ],
             [
              0.1111111111111111,
              "#46039f"
             ],
             [
              0.2222222222222222,
              "#7201a8"
             ],
             [
              0.3333333333333333,
              "#9c179e"
             ],
             [
              0.4444444444444444,
              "#bd3786"
             ],
             [
              0.5555555555555556,
              "#d8576b"
             ],
             [
              0.6666666666666666,
              "#ed7953"
             ],
             [
              0.7777777777777778,
              "#fb9f3a"
             ],
             [
              0.8888888888888888,
              "#fdca26"
             ],
             [
              1,
              "#f0f921"
             ]
            ],
            "type": "histogram2d"
           }
          ],
          "histogram2dcontour": [
           {
            "colorbar": {
             "outlinewidth": 0,
             "ticks": ""
            },
            "colorscale": [
             [
              0,
              "#0d0887"
             ],
             [
              0.1111111111111111,
              "#46039f"
             ],
             [
              0.2222222222222222,
              "#7201a8"
             ],
             [
              0.3333333333333333,
              "#9c179e"
             ],
             [
              0.4444444444444444,
              "#bd3786"
             ],
             [
              0.5555555555555556,
              "#d8576b"
             ],
             [
              0.6666666666666666,
              "#ed7953"
             ],
             [
              0.7777777777777778,
              "#fb9f3a"
             ],
             [
              0.8888888888888888,
              "#fdca26"
             ],
             [
              1,
              "#f0f921"
             ]
            ],
            "type": "histogram2dcontour"
           }
          ],
          "mesh3d": [
           {
            "colorbar": {
             "outlinewidth": 0,
             "ticks": ""
            },
            "type": "mesh3d"
           }
          ],
          "parcoords": [
           {
            "line": {
             "colorbar": {
              "outlinewidth": 0,
              "ticks": ""
             }
            },
            "type": "parcoords"
           }
          ],
          "pie": [
           {
            "automargin": true,
            "type": "pie"
           }
          ],
          "scatter": [
           {
            "fillpattern": {
             "fillmode": "overlay",
             "size": 10,
             "solidity": 0.2
            },
            "type": "scatter"
           }
          ],
          "scatter3d": [
           {
            "line": {
             "colorbar": {
              "outlinewidth": 0,
              "ticks": ""
             }
            },
            "marker": {
             "colorbar": {
              "outlinewidth": 0,
              "ticks": ""
             }
            },
            "type": "scatter3d"
           }
          ],
          "scattercarpet": [
           {
            "marker": {
             "colorbar": {
              "outlinewidth": 0,
              "ticks": ""
             }
            },
            "type": "scattercarpet"
           }
          ],
          "scattergeo": [
           {
            "marker": {
             "colorbar": {
              "outlinewidth": 0,
              "ticks": ""
             }
            },
            "type": "scattergeo"
           }
          ],
          "scattergl": [
           {
            "marker": {
             "colorbar": {
              "outlinewidth": 0,
              "ticks": ""
             }
            },
            "type": "scattergl"
           }
          ],
          "scattermapbox": [
           {
            "marker": {
             "colorbar": {
              "outlinewidth": 0,
              "ticks": ""
             }
            },
            "type": "scattermapbox"
           }
          ],
          "scatterpolar": [
           {
            "marker": {
             "colorbar": {
              "outlinewidth": 0,
              "ticks": ""
             }
            },
            "type": "scatterpolar"
           }
          ],
          "scatterpolargl": [
           {
            "marker": {
             "colorbar": {
              "outlinewidth": 0,
              "ticks": ""
             }
            },
            "type": "scatterpolargl"
           }
          ],
          "scatterternary": [
           {
            "marker": {
             "colorbar": {
              "outlinewidth": 0,
              "ticks": ""
             }
            },
            "type": "scatterternary"
           }
          ],
          "surface": [
           {
            "colorbar": {
             "outlinewidth": 0,
             "ticks": ""
            },
            "colorscale": [
             [
              0,
              "#0d0887"
             ],
             [
              0.1111111111111111,
              "#46039f"
             ],
             [
              0.2222222222222222,
              "#7201a8"
             ],
             [
              0.3333333333333333,
              "#9c179e"
             ],
             [
              0.4444444444444444,
              "#bd3786"
             ],
             [
              0.5555555555555556,
              "#d8576b"
             ],
             [
              0.6666666666666666,
              "#ed7953"
             ],
             [
              0.7777777777777778,
              "#fb9f3a"
             ],
             [
              0.8888888888888888,
              "#fdca26"
             ],
             [
              1,
              "#f0f921"
             ]
            ],
            "type": "surface"
           }
          ],
          "table": [
           {
            "cells": {
             "fill": {
              "color": "#EBF0F8"
             },
             "line": {
              "color": "white"
             }
            },
            "header": {
             "fill": {
              "color": "#C8D4E3"
             },
             "line": {
              "color": "white"
             }
            },
            "type": "table"
           }
          ]
         },
         "layout": {
          "annotationdefaults": {
           "arrowcolor": "#2a3f5f",
           "arrowhead": 0,
           "arrowwidth": 1
          },
          "autotypenumbers": "strict",
          "coloraxis": {
           "colorbar": {
            "outlinewidth": 0,
            "ticks": ""
           }
          },
          "colorscale": {
           "diverging": [
            [
             0,
             "#8e0152"
            ],
            [
             0.1,
             "#c51b7d"
            ],
            [
             0.2,
             "#de77ae"
            ],
            [
             0.3,
             "#f1b6da"
            ],
            [
             0.4,
             "#fde0ef"
            ],
            [
             0.5,
             "#f7f7f7"
            ],
            [
             0.6,
             "#e6f5d0"
            ],
            [
             0.7,
             "#b8e186"
            ],
            [
             0.8,
             "#7fbc41"
            ],
            [
             0.9,
             "#4d9221"
            ],
            [
             1,
             "#276419"
            ]
           ],
           "sequential": [
            [
             0,
             "#0d0887"
            ],
            [
             0.1111111111111111,
             "#46039f"
            ],
            [
             0.2222222222222222,
             "#7201a8"
            ],
            [
             0.3333333333333333,
             "#9c179e"
            ],
            [
             0.4444444444444444,
             "#bd3786"
            ],
            [
             0.5555555555555556,
             "#d8576b"
            ],
            [
             0.6666666666666666,
             "#ed7953"
            ],
            [
             0.7777777777777778,
             "#fb9f3a"
            ],
            [
             0.8888888888888888,
             "#fdca26"
            ],
            [
             1,
             "#f0f921"
            ]
           ],
           "sequentialminus": [
            [
             0,
             "#0d0887"
            ],
            [
             0.1111111111111111,
             "#46039f"
            ],
            [
             0.2222222222222222,
             "#7201a8"
            ],
            [
             0.3333333333333333,
             "#9c179e"
            ],
            [
             0.4444444444444444,
             "#bd3786"
            ],
            [
             0.5555555555555556,
             "#d8576b"
            ],
            [
             0.6666666666666666,
             "#ed7953"
            ],
            [
             0.7777777777777778,
             "#fb9f3a"
            ],
            [
             0.8888888888888888,
             "#fdca26"
            ],
            [
             1,
             "#f0f921"
            ]
           ]
          },
          "colorway": [
           "#636efa",
           "#EF553B",
           "#00cc96",
           "#ab63fa",
           "#FFA15A",
           "#19d3f3",
           "#FF6692",
           "#B6E880",
           "#FF97FF",
           "#FECB52"
          ],
          "font": {
           "color": "#2a3f5f"
          },
          "geo": {
           "bgcolor": "white",
           "lakecolor": "white",
           "landcolor": "#E5ECF6",
           "showlakes": true,
           "showland": true,
           "subunitcolor": "white"
          },
          "hoverlabel": {
           "align": "left"
          },
          "hovermode": "closest",
          "mapbox": {
           "style": "light"
          },
          "paper_bgcolor": "white",
          "plot_bgcolor": "#E5ECF6",
          "polar": {
           "angularaxis": {
            "gridcolor": "white",
            "linecolor": "white",
            "ticks": ""
           },
           "bgcolor": "#E5ECF6",
           "radialaxis": {
            "gridcolor": "white",
            "linecolor": "white",
            "ticks": ""
           }
          },
          "scene": {
           "xaxis": {
            "backgroundcolor": "#E5ECF6",
            "gridcolor": "white",
            "gridwidth": 2,
            "linecolor": "white",
            "showbackground": true,
            "ticks": "",
            "zerolinecolor": "white"
           },
           "yaxis": {
            "backgroundcolor": "#E5ECF6",
            "gridcolor": "white",
            "gridwidth": 2,
            "linecolor": "white",
            "showbackground": true,
            "ticks": "",
            "zerolinecolor": "white"
           },
           "zaxis": {
            "backgroundcolor": "#E5ECF6",
            "gridcolor": "white",
            "gridwidth": 2,
            "linecolor": "white",
            "showbackground": true,
            "ticks": "",
            "zerolinecolor": "white"
           }
          },
          "shapedefaults": {
           "line": {
            "color": "#2a3f5f"
           }
          },
          "ternary": {
           "aaxis": {
            "gridcolor": "white",
            "linecolor": "white",
            "ticks": ""
           },
           "baxis": {
            "gridcolor": "white",
            "linecolor": "white",
            "ticks": ""
           },
           "bgcolor": "#E5ECF6",
           "caxis": {
            "gridcolor": "white",
            "linecolor": "white",
            "ticks": ""
           }
          },
          "title": {
           "x": 0.05
          },
          "xaxis": {
           "automargin": true,
           "gridcolor": "white",
           "linecolor": "white",
           "ticks": "",
           "title": {
            "standoff": 15
           },
           "zerolinecolor": "white",
           "zerolinewidth": 2
          },
          "yaxis": {
           "automargin": true,
           "gridcolor": "white",
           "linecolor": "white",
           "ticks": "",
           "title": {
            "standoff": 15
           },
           "zerolinecolor": "white",
           "zerolinewidth": 2
          }
         }
        }
       }
      }
     },
     "metadata": {},
     "output_type": "display_data"
    }
   ],
   "source": [
    "plot_rate(5)"
   ]
  },
  {
   "cell_type": "code",
   "execution_count": 147,
   "metadata": {},
   "outputs": [
    {
     "data": {
      "application/vnd.plotly.v1+json": {
       "config": {
        "plotlyServerURL": "https://plot.ly"
       },
       "data": [
        {
         "close": [
          20032.07131583,
          20036.62,
          20036.09,
          20039.00509078,
          20047.85,
          20053,
          20043,
          20044,
          20040,
          20042,
          20028.62738239,
          20034,
          20036,
          20032.76624116,
          20029,
          20020,
          20022,
          20021,
          20014,
          20013,
          20012,
          20016,
          20018.26,
          20023,
          20016,
          20017,
          20013.80014678,
          20019,
          20019,
          20026,
          20019
         ],
         "high": [
          20039.27,
          20036,
          20037.3,
          20038.4,
          20040.12271516,
          20050,
          20053,
          20053,
          20044.17726828,
          20044.17726828,
          20042,
          20042,
          20034.06,
          20036,
          20038,
          20032.76624116,
          20029,
          20022,
          20022,
          20021,
          20014,
          20013,
          20016,
          20019,
          20024,
          20023,
          20017,
          20017,
          20019,
          20019,
          20019
         ],
         "low": [
          20034.83017429,
          20028.94647138,
          20031,
          20031,
          20033.54,
          20040,
          20046.48,
          20043,
          20042,
          20040,
          20035,
          20024,
          20028,
          20031.67023733,
          20031,
          20024,
          20019,
          20019,
          20016,
          20014,
          20010,
          20009,
          20012,
          20015,
          20020,
          20014,
          20015,
          20013,
          20013.80014678,
          20017,
          20017
         ],
         "open": [
          20035.21,
          20035,
          20032.07131583,
          20037.3,
          20033.91,
          20040.12271516,
          20050,
          20053,
          20044,
          20044,
          20040,
          20042,
          20028.62738239,
          20034,
          20033.7,
          20032.76624116,
          20029,
          20020,
          20022,
          20021,
          20014,
          20013,
          20012,
          20016,
          20018.26,
          20023,
          20016,
          20017,
          20013.80014678,
          20019,
          20019
         ],
         "type": "candlestick",
         "x": [
          "10:32:46",
          "10:33:53",
          "10:35:00",
          "10:36:07",
          "10:37:13",
          "10:38:20",
          "10:39:25",
          "10:40:34",
          "10:41:45",
          "10:42:53",
          "10:43:59",
          "10:45:05",
          "10:46:09",
          "10:47:16",
          "10:48:22",
          "10:49:26",
          "10:50:36",
          "10:51:47",
          "10:52:57",
          "10:54:03",
          "10:55:11",
          "10:56:19",
          "10:57:26",
          "10:58:31",
          "10:59:39",
          "11:00:44",
          "11:01:49",
          "11:02:55",
          "11:03:58",
          "11:05:02",
          "11:06:04"
         ]
        }
       ],
       "layout": {
        "template": {
         "data": {
          "bar": [
           {
            "error_x": {
             "color": "#2a3f5f"
            },
            "error_y": {
             "color": "#2a3f5f"
            },
            "marker": {
             "line": {
              "color": "#E5ECF6",
              "width": 0.5
             },
             "pattern": {
              "fillmode": "overlay",
              "size": 10,
              "solidity": 0.2
             }
            },
            "type": "bar"
           }
          ],
          "barpolar": [
           {
            "marker": {
             "line": {
              "color": "#E5ECF6",
              "width": 0.5
             },
             "pattern": {
              "fillmode": "overlay",
              "size": 10,
              "solidity": 0.2
             }
            },
            "type": "barpolar"
           }
          ],
          "carpet": [
           {
            "aaxis": {
             "endlinecolor": "#2a3f5f",
             "gridcolor": "white",
             "linecolor": "white",
             "minorgridcolor": "white",
             "startlinecolor": "#2a3f5f"
            },
            "baxis": {
             "endlinecolor": "#2a3f5f",
             "gridcolor": "white",
             "linecolor": "white",
             "minorgridcolor": "white",
             "startlinecolor": "#2a3f5f"
            },
            "type": "carpet"
           }
          ],
          "choropleth": [
           {
            "colorbar": {
             "outlinewidth": 0,
             "ticks": ""
            },
            "type": "choropleth"
           }
          ],
          "contour": [
           {
            "colorbar": {
             "outlinewidth": 0,
             "ticks": ""
            },
            "colorscale": [
             [
              0,
              "#0d0887"
             ],
             [
              0.1111111111111111,
              "#46039f"
             ],
             [
              0.2222222222222222,
              "#7201a8"
             ],
             [
              0.3333333333333333,
              "#9c179e"
             ],
             [
              0.4444444444444444,
              "#bd3786"
             ],
             [
              0.5555555555555556,
              "#d8576b"
             ],
             [
              0.6666666666666666,
              "#ed7953"
             ],
             [
              0.7777777777777778,
              "#fb9f3a"
             ],
             [
              0.8888888888888888,
              "#fdca26"
             ],
             [
              1,
              "#f0f921"
             ]
            ],
            "type": "contour"
           }
          ],
          "contourcarpet": [
           {
            "colorbar": {
             "outlinewidth": 0,
             "ticks": ""
            },
            "type": "contourcarpet"
           }
          ],
          "heatmap": [
           {
            "colorbar": {
             "outlinewidth": 0,
             "ticks": ""
            },
            "colorscale": [
             [
              0,
              "#0d0887"
             ],
             [
              0.1111111111111111,
              "#46039f"
             ],
             [
              0.2222222222222222,
              "#7201a8"
             ],
             [
              0.3333333333333333,
              "#9c179e"
             ],
             [
              0.4444444444444444,
              "#bd3786"
             ],
             [
              0.5555555555555556,
              "#d8576b"
             ],
             [
              0.6666666666666666,
              "#ed7953"
             ],
             [
              0.7777777777777778,
              "#fb9f3a"
             ],
             [
              0.8888888888888888,
              "#fdca26"
             ],
             [
              1,
              "#f0f921"
             ]
            ],
            "type": "heatmap"
           }
          ],
          "heatmapgl": [
           {
            "colorbar": {
             "outlinewidth": 0,
             "ticks": ""
            },
            "colorscale": [
             [
              0,
              "#0d0887"
             ],
             [
              0.1111111111111111,
              "#46039f"
             ],
             [
              0.2222222222222222,
              "#7201a8"
             ],
             [
              0.3333333333333333,
              "#9c179e"
             ],
             [
              0.4444444444444444,
              "#bd3786"
             ],
             [
              0.5555555555555556,
              "#d8576b"
             ],
             [
              0.6666666666666666,
              "#ed7953"
             ],
             [
              0.7777777777777778,
              "#fb9f3a"
             ],
             [
              0.8888888888888888,
              "#fdca26"
             ],
             [
              1,
              "#f0f921"
             ]
            ],
            "type": "heatmapgl"
           }
          ],
          "histogram": [
           {
            "marker": {
             "pattern": {
              "fillmode": "overlay",
              "size": 10,
              "solidity": 0.2
             }
            },
            "type": "histogram"
           }
          ],
          "histogram2d": [
           {
            "colorbar": {
             "outlinewidth": 0,
             "ticks": ""
            },
            "colorscale": [
             [
              0,
              "#0d0887"
             ],
             [
              0.1111111111111111,
              "#46039f"
             ],
             [
              0.2222222222222222,
              "#7201a8"
             ],
             [
              0.3333333333333333,
              "#9c179e"
             ],
             [
              0.4444444444444444,
              "#bd3786"
             ],
             [
              0.5555555555555556,
              "#d8576b"
             ],
             [
              0.6666666666666666,
              "#ed7953"
             ],
             [
              0.7777777777777778,
              "#fb9f3a"
             ],
             [
              0.8888888888888888,
              "#fdca26"
             ],
             [
              1,
              "#f0f921"
             ]
            ],
            "type": "histogram2d"
           }
          ],
          "histogram2dcontour": [
           {
            "colorbar": {
             "outlinewidth": 0,
             "ticks": ""
            },
            "colorscale": [
             [
              0,
              "#0d0887"
             ],
             [
              0.1111111111111111,
              "#46039f"
             ],
             [
              0.2222222222222222,
              "#7201a8"
             ],
             [
              0.3333333333333333,
              "#9c179e"
             ],
             [
              0.4444444444444444,
              "#bd3786"
             ],
             [
              0.5555555555555556,
              "#d8576b"
             ],
             [
              0.6666666666666666,
              "#ed7953"
             ],
             [
              0.7777777777777778,
              "#fb9f3a"
             ],
             [
              0.8888888888888888,
              "#fdca26"
             ],
             [
              1,
              "#f0f921"
             ]
            ],
            "type": "histogram2dcontour"
           }
          ],
          "mesh3d": [
           {
            "colorbar": {
             "outlinewidth": 0,
             "ticks": ""
            },
            "type": "mesh3d"
           }
          ],
          "parcoords": [
           {
            "line": {
             "colorbar": {
              "outlinewidth": 0,
              "ticks": ""
             }
            },
            "type": "parcoords"
           }
          ],
          "pie": [
           {
            "automargin": true,
            "type": "pie"
           }
          ],
          "scatter": [
           {
            "fillpattern": {
             "fillmode": "overlay",
             "size": 10,
             "solidity": 0.2
            },
            "type": "scatter"
           }
          ],
          "scatter3d": [
           {
            "line": {
             "colorbar": {
              "outlinewidth": 0,
              "ticks": ""
             }
            },
            "marker": {
             "colorbar": {
              "outlinewidth": 0,
              "ticks": ""
             }
            },
            "type": "scatter3d"
           }
          ],
          "scattercarpet": [
           {
            "marker": {
             "colorbar": {
              "outlinewidth": 0,
              "ticks": ""
             }
            },
            "type": "scattercarpet"
           }
          ],
          "scattergeo": [
           {
            "marker": {
             "colorbar": {
              "outlinewidth": 0,
              "ticks": ""
             }
            },
            "type": "scattergeo"
           }
          ],
          "scattergl": [
           {
            "marker": {
             "colorbar": {
              "outlinewidth": 0,
              "ticks": ""
             }
            },
            "type": "scattergl"
           }
          ],
          "scattermapbox": [
           {
            "marker": {
             "colorbar": {
              "outlinewidth": 0,
              "ticks": ""
             }
            },
            "type": "scattermapbox"
           }
          ],
          "scatterpolar": [
           {
            "marker": {
             "colorbar": {
              "outlinewidth": 0,
              "ticks": ""
             }
            },
            "type": "scatterpolar"
           }
          ],
          "scatterpolargl": [
           {
            "marker": {
             "colorbar": {
              "outlinewidth": 0,
              "ticks": ""
             }
            },
            "type": "scatterpolargl"
           }
          ],
          "scatterternary": [
           {
            "marker": {
             "colorbar": {
              "outlinewidth": 0,
              "ticks": ""
             }
            },
            "type": "scatterternary"
           }
          ],
          "surface": [
           {
            "colorbar": {
             "outlinewidth": 0,
             "ticks": ""
            },
            "colorscale": [
             [
              0,
              "#0d0887"
             ],
             [
              0.1111111111111111,
              "#46039f"
             ],
             [
              0.2222222222222222,
              "#7201a8"
             ],
             [
              0.3333333333333333,
              "#9c179e"
             ],
             [
              0.4444444444444444,
              "#bd3786"
             ],
             [
              0.5555555555555556,
              "#d8576b"
             ],
             [
              0.6666666666666666,
              "#ed7953"
             ],
             [
              0.7777777777777778,
              "#fb9f3a"
             ],
             [
              0.8888888888888888,
              "#fdca26"
             ],
             [
              1,
              "#f0f921"
             ]
            ],
            "type": "surface"
           }
          ],
          "table": [
           {
            "cells": {
             "fill": {
              "color": "#EBF0F8"
             },
             "line": {
              "color": "white"
             }
            },
            "header": {
             "fill": {
              "color": "#C8D4E3"
             },
             "line": {
              "color": "white"
             }
            },
            "type": "table"
           }
          ]
         },
         "layout": {
          "annotationdefaults": {
           "arrowcolor": "#2a3f5f",
           "arrowhead": 0,
           "arrowwidth": 1
          },
          "autotypenumbers": "strict",
          "coloraxis": {
           "colorbar": {
            "outlinewidth": 0,
            "ticks": ""
           }
          },
          "colorscale": {
           "diverging": [
            [
             0,
             "#8e0152"
            ],
            [
             0.1,
             "#c51b7d"
            ],
            [
             0.2,
             "#de77ae"
            ],
            [
             0.3,
             "#f1b6da"
            ],
            [
             0.4,
             "#fde0ef"
            ],
            [
             0.5,
             "#f7f7f7"
            ],
            [
             0.6,
             "#e6f5d0"
            ],
            [
             0.7,
             "#b8e186"
            ],
            [
             0.8,
             "#7fbc41"
            ],
            [
             0.9,
             "#4d9221"
            ],
            [
             1,
             "#276419"
            ]
           ],
           "sequential": [
            [
             0,
             "#0d0887"
            ],
            [
             0.1111111111111111,
             "#46039f"
            ],
            [
             0.2222222222222222,
             "#7201a8"
            ],
            [
             0.3333333333333333,
             "#9c179e"
            ],
            [
             0.4444444444444444,
             "#bd3786"
            ],
            [
             0.5555555555555556,
             "#d8576b"
            ],
            [
             0.6666666666666666,
             "#ed7953"
            ],
            [
             0.7777777777777778,
             "#fb9f3a"
            ],
            [
             0.8888888888888888,
             "#fdca26"
            ],
            [
             1,
             "#f0f921"
            ]
           ],
           "sequentialminus": [
            [
             0,
             "#0d0887"
            ],
            [
             0.1111111111111111,
             "#46039f"
            ],
            [
             0.2222222222222222,
             "#7201a8"
            ],
            [
             0.3333333333333333,
             "#9c179e"
            ],
            [
             0.4444444444444444,
             "#bd3786"
            ],
            [
             0.5555555555555556,
             "#d8576b"
            ],
            [
             0.6666666666666666,
             "#ed7953"
            ],
            [
             0.7777777777777778,
             "#fb9f3a"
            ],
            [
             0.8888888888888888,
             "#fdca26"
            ],
            [
             1,
             "#f0f921"
            ]
           ]
          },
          "colorway": [
           "#636efa",
           "#EF553B",
           "#00cc96",
           "#ab63fa",
           "#FFA15A",
           "#19d3f3",
           "#FF6692",
           "#B6E880",
           "#FF97FF",
           "#FECB52"
          ],
          "font": {
           "color": "#2a3f5f"
          },
          "geo": {
           "bgcolor": "white",
           "lakecolor": "white",
           "landcolor": "#E5ECF6",
           "showlakes": true,
           "showland": true,
           "subunitcolor": "white"
          },
          "hoverlabel": {
           "align": "left"
          },
          "hovermode": "closest",
          "mapbox": {
           "style": "light"
          },
          "paper_bgcolor": "white",
          "plot_bgcolor": "#E5ECF6",
          "polar": {
           "angularaxis": {
            "gridcolor": "white",
            "linecolor": "white",
            "ticks": ""
           },
           "bgcolor": "#E5ECF6",
           "radialaxis": {
            "gridcolor": "white",
            "linecolor": "white",
            "ticks": ""
           }
          },
          "scene": {
           "xaxis": {
            "backgroundcolor": "#E5ECF6",
            "gridcolor": "white",
            "gridwidth": 2,
            "linecolor": "white",
            "showbackground": true,
            "ticks": "",
            "zerolinecolor": "white"
           },
           "yaxis": {
            "backgroundcolor": "#E5ECF6",
            "gridcolor": "white",
            "gridwidth": 2,
            "linecolor": "white",
            "showbackground": true,
            "ticks": "",
            "zerolinecolor": "white"
           },
           "zaxis": {
            "backgroundcolor": "#E5ECF6",
            "gridcolor": "white",
            "gridwidth": 2,
            "linecolor": "white",
            "showbackground": true,
            "ticks": "",
            "zerolinecolor": "white"
           }
          },
          "shapedefaults": {
           "line": {
            "color": "#2a3f5f"
           }
          },
          "ternary": {
           "aaxis": {
            "gridcolor": "white",
            "linecolor": "white",
            "ticks": ""
           },
           "baxis": {
            "gridcolor": "white",
            "linecolor": "white",
            "ticks": ""
           },
           "bgcolor": "#E5ECF6",
           "caxis": {
            "gridcolor": "white",
            "linecolor": "white",
            "ticks": ""
           }
          },
          "title": {
           "x": 0.05
          },
          "xaxis": {
           "automargin": true,
           "gridcolor": "white",
           "linecolor": "white",
           "ticks": "",
           "title": {
            "standoff": 15
           },
           "zerolinecolor": "white",
           "zerolinewidth": 2
          },
          "yaxis": {
           "automargin": true,
           "gridcolor": "white",
           "linecolor": "white",
           "ticks": "",
           "title": {
            "standoff": 15
           },
           "zerolinecolor": "white",
           "zerolinewidth": 2
          }
         }
        }
       }
      }
     },
     "metadata": {},
     "output_type": "display_data"
    }
   ],
   "source": [
    "plot_rate(60)"
   ]
  },
  {
   "cell_type": "code",
   "execution_count": 148,
   "metadata": {},
   "outputs": [
    {
     "data": {
      "application/vnd.plotly.v1+json": {
       "config": {
        "plotlyServerURL": "https://plot.ly"
       },
       "data": [
        {
         "close": [
          20040,
          20032.76624116,
          20014,
          20023,
          20019,
          20023
         ],
         "high": [
          20040.12271516,
          20053,
          20042,
          20032.76624116,
          20024,
          20024
         ],
         "low": [
          20028.94647138,
          20040,
          20024,
          20014,
          20009,
          20009
         ],
         "open": [
          20035.21,
          20040.12271516,
          20040,
          20032.76624116,
          20014,
          20023
         ],
         "type": "candlestick",
         "x": [
          "10:32:46",
          "10:38:20",
          "10:43:59",
          "10:49:26",
          "10:55:11",
          "11:00:44"
         ]
        }
       ],
       "layout": {
        "template": {
         "data": {
          "bar": [
           {
            "error_x": {
             "color": "#2a3f5f"
            },
            "error_y": {
             "color": "#2a3f5f"
            },
            "marker": {
             "line": {
              "color": "#E5ECF6",
              "width": 0.5
             },
             "pattern": {
              "fillmode": "overlay",
              "size": 10,
              "solidity": 0.2
             }
            },
            "type": "bar"
           }
          ],
          "barpolar": [
           {
            "marker": {
             "line": {
              "color": "#E5ECF6",
              "width": 0.5
             },
             "pattern": {
              "fillmode": "overlay",
              "size": 10,
              "solidity": 0.2
             }
            },
            "type": "barpolar"
           }
          ],
          "carpet": [
           {
            "aaxis": {
             "endlinecolor": "#2a3f5f",
             "gridcolor": "white",
             "linecolor": "white",
             "minorgridcolor": "white",
             "startlinecolor": "#2a3f5f"
            },
            "baxis": {
             "endlinecolor": "#2a3f5f",
             "gridcolor": "white",
             "linecolor": "white",
             "minorgridcolor": "white",
             "startlinecolor": "#2a3f5f"
            },
            "type": "carpet"
           }
          ],
          "choropleth": [
           {
            "colorbar": {
             "outlinewidth": 0,
             "ticks": ""
            },
            "type": "choropleth"
           }
          ],
          "contour": [
           {
            "colorbar": {
             "outlinewidth": 0,
             "ticks": ""
            },
            "colorscale": [
             [
              0,
              "#0d0887"
             ],
             [
              0.1111111111111111,
              "#46039f"
             ],
             [
              0.2222222222222222,
              "#7201a8"
             ],
             [
              0.3333333333333333,
              "#9c179e"
             ],
             [
              0.4444444444444444,
              "#bd3786"
             ],
             [
              0.5555555555555556,
              "#d8576b"
             ],
             [
              0.6666666666666666,
              "#ed7953"
             ],
             [
              0.7777777777777778,
              "#fb9f3a"
             ],
             [
              0.8888888888888888,
              "#fdca26"
             ],
             [
              1,
              "#f0f921"
             ]
            ],
            "type": "contour"
           }
          ],
          "contourcarpet": [
           {
            "colorbar": {
             "outlinewidth": 0,
             "ticks": ""
            },
            "type": "contourcarpet"
           }
          ],
          "heatmap": [
           {
            "colorbar": {
             "outlinewidth": 0,
             "ticks": ""
            },
            "colorscale": [
             [
              0,
              "#0d0887"
             ],
             [
              0.1111111111111111,
              "#46039f"
             ],
             [
              0.2222222222222222,
              "#7201a8"
             ],
             [
              0.3333333333333333,
              "#9c179e"
             ],
             [
              0.4444444444444444,
              "#bd3786"
             ],
             [
              0.5555555555555556,
              "#d8576b"
             ],
             [
              0.6666666666666666,
              "#ed7953"
             ],
             [
              0.7777777777777778,
              "#fb9f3a"
             ],
             [
              0.8888888888888888,
              "#fdca26"
             ],
             [
              1,
              "#f0f921"
             ]
            ],
            "type": "heatmap"
           }
          ],
          "heatmapgl": [
           {
            "colorbar": {
             "outlinewidth": 0,
             "ticks": ""
            },
            "colorscale": [
             [
              0,
              "#0d0887"
             ],
             [
              0.1111111111111111,
              "#46039f"
             ],
             [
              0.2222222222222222,
              "#7201a8"
             ],
             [
              0.3333333333333333,
              "#9c179e"
             ],
             [
              0.4444444444444444,
              "#bd3786"
             ],
             [
              0.5555555555555556,
              "#d8576b"
             ],
             [
              0.6666666666666666,
              "#ed7953"
             ],
             [
              0.7777777777777778,
              "#fb9f3a"
             ],
             [
              0.8888888888888888,
              "#fdca26"
             ],
             [
              1,
              "#f0f921"
             ]
            ],
            "type": "heatmapgl"
           }
          ],
          "histogram": [
           {
            "marker": {
             "pattern": {
              "fillmode": "overlay",
              "size": 10,
              "solidity": 0.2
             }
            },
            "type": "histogram"
           }
          ],
          "histogram2d": [
           {
            "colorbar": {
             "outlinewidth": 0,
             "ticks": ""
            },
            "colorscale": [
             [
              0,
              "#0d0887"
             ],
             [
              0.1111111111111111,
              "#46039f"
             ],
             [
              0.2222222222222222,
              "#7201a8"
             ],
             [
              0.3333333333333333,
              "#9c179e"
             ],
             [
              0.4444444444444444,
              "#bd3786"
             ],
             [
              0.5555555555555556,
              "#d8576b"
             ],
             [
              0.6666666666666666,
              "#ed7953"
             ],
             [
              0.7777777777777778,
              "#fb9f3a"
             ],
             [
              0.8888888888888888,
              "#fdca26"
             ],
             [
              1,
              "#f0f921"
             ]
            ],
            "type": "histogram2d"
           }
          ],
          "histogram2dcontour": [
           {
            "colorbar": {
             "outlinewidth": 0,
             "ticks": ""
            },
            "colorscale": [
             [
              0,
              "#0d0887"
             ],
             [
              0.1111111111111111,
              "#46039f"
             ],
             [
              0.2222222222222222,
              "#7201a8"
             ],
             [
              0.3333333333333333,
              "#9c179e"
             ],
             [
              0.4444444444444444,
              "#bd3786"
             ],
             [
              0.5555555555555556,
              "#d8576b"
             ],
             [
              0.6666666666666666,
              "#ed7953"
             ],
             [
              0.7777777777777778,
              "#fb9f3a"
             ],
             [
              0.8888888888888888,
              "#fdca26"
             ],
             [
              1,
              "#f0f921"
             ]
            ],
            "type": "histogram2dcontour"
           }
          ],
          "mesh3d": [
           {
            "colorbar": {
             "outlinewidth": 0,
             "ticks": ""
            },
            "type": "mesh3d"
           }
          ],
          "parcoords": [
           {
            "line": {
             "colorbar": {
              "outlinewidth": 0,
              "ticks": ""
             }
            },
            "type": "parcoords"
           }
          ],
          "pie": [
           {
            "automargin": true,
            "type": "pie"
           }
          ],
          "scatter": [
           {
            "fillpattern": {
             "fillmode": "overlay",
             "size": 10,
             "solidity": 0.2
            },
            "type": "scatter"
           }
          ],
          "scatter3d": [
           {
            "line": {
             "colorbar": {
              "outlinewidth": 0,
              "ticks": ""
             }
            },
            "marker": {
             "colorbar": {
              "outlinewidth": 0,
              "ticks": ""
             }
            },
            "type": "scatter3d"
           }
          ],
          "scattercarpet": [
           {
            "marker": {
             "colorbar": {
              "outlinewidth": 0,
              "ticks": ""
             }
            },
            "type": "scattercarpet"
           }
          ],
          "scattergeo": [
           {
            "marker": {
             "colorbar": {
              "outlinewidth": 0,
              "ticks": ""
             }
            },
            "type": "scattergeo"
           }
          ],
          "scattergl": [
           {
            "marker": {
             "colorbar": {
              "outlinewidth": 0,
              "ticks": ""
             }
            },
            "type": "scattergl"
           }
          ],
          "scattermapbox": [
           {
            "marker": {
             "colorbar": {
              "outlinewidth": 0,
              "ticks": ""
             }
            },
            "type": "scattermapbox"
           }
          ],
          "scatterpolar": [
           {
            "marker": {
             "colorbar": {
              "outlinewidth": 0,
              "ticks": ""
             }
            },
            "type": "scatterpolar"
           }
          ],
          "scatterpolargl": [
           {
            "marker": {
             "colorbar": {
              "outlinewidth": 0,
              "ticks": ""
             }
            },
            "type": "scatterpolargl"
           }
          ],
          "scatterternary": [
           {
            "marker": {
             "colorbar": {
              "outlinewidth": 0,
              "ticks": ""
             }
            },
            "type": "scatterternary"
           }
          ],
          "surface": [
           {
            "colorbar": {
             "outlinewidth": 0,
             "ticks": ""
            },
            "colorscale": [
             [
              0,
              "#0d0887"
             ],
             [
              0.1111111111111111,
              "#46039f"
             ],
             [
              0.2222222222222222,
              "#7201a8"
             ],
             [
              0.3333333333333333,
              "#9c179e"
             ],
             [
              0.4444444444444444,
              "#bd3786"
             ],
             [
              0.5555555555555556,
              "#d8576b"
             ],
             [
              0.6666666666666666,
              "#ed7953"
             ],
             [
              0.7777777777777778,
              "#fb9f3a"
             ],
             [
              0.8888888888888888,
              "#fdca26"
             ],
             [
              1,
              "#f0f921"
             ]
            ],
            "type": "surface"
           }
          ],
          "table": [
           {
            "cells": {
             "fill": {
              "color": "#EBF0F8"
             },
             "line": {
              "color": "white"
             }
            },
            "header": {
             "fill": {
              "color": "#C8D4E3"
             },
             "line": {
              "color": "white"
             }
            },
            "type": "table"
           }
          ]
         },
         "layout": {
          "annotationdefaults": {
           "arrowcolor": "#2a3f5f",
           "arrowhead": 0,
           "arrowwidth": 1
          },
          "autotypenumbers": "strict",
          "coloraxis": {
           "colorbar": {
            "outlinewidth": 0,
            "ticks": ""
           }
          },
          "colorscale": {
           "diverging": [
            [
             0,
             "#8e0152"
            ],
            [
             0.1,
             "#c51b7d"
            ],
            [
             0.2,
             "#de77ae"
            ],
            [
             0.3,
             "#f1b6da"
            ],
            [
             0.4,
             "#fde0ef"
            ],
            [
             0.5,
             "#f7f7f7"
            ],
            [
             0.6,
             "#e6f5d0"
            ],
            [
             0.7,
             "#b8e186"
            ],
            [
             0.8,
             "#7fbc41"
            ],
            [
             0.9,
             "#4d9221"
            ],
            [
             1,
             "#276419"
            ]
           ],
           "sequential": [
            [
             0,
             "#0d0887"
            ],
            [
             0.1111111111111111,
             "#46039f"
            ],
            [
             0.2222222222222222,
             "#7201a8"
            ],
            [
             0.3333333333333333,
             "#9c179e"
            ],
            [
             0.4444444444444444,
             "#bd3786"
            ],
            [
             0.5555555555555556,
             "#d8576b"
            ],
            [
             0.6666666666666666,
             "#ed7953"
            ],
            [
             0.7777777777777778,
             "#fb9f3a"
            ],
            [
             0.8888888888888888,
             "#fdca26"
            ],
            [
             1,
             "#f0f921"
            ]
           ],
           "sequentialminus": [
            [
             0,
             "#0d0887"
            ],
            [
             0.1111111111111111,
             "#46039f"
            ],
            [
             0.2222222222222222,
             "#7201a8"
            ],
            [
             0.3333333333333333,
             "#9c179e"
            ],
            [
             0.4444444444444444,
             "#bd3786"
            ],
            [
             0.5555555555555556,
             "#d8576b"
            ],
            [
             0.6666666666666666,
             "#ed7953"
            ],
            [
             0.7777777777777778,
             "#fb9f3a"
            ],
            [
             0.8888888888888888,
             "#fdca26"
            ],
            [
             1,
             "#f0f921"
            ]
           ]
          },
          "colorway": [
           "#636efa",
           "#EF553B",
           "#00cc96",
           "#ab63fa",
           "#FFA15A",
           "#19d3f3",
           "#FF6692",
           "#B6E880",
           "#FF97FF",
           "#FECB52"
          ],
          "font": {
           "color": "#2a3f5f"
          },
          "geo": {
           "bgcolor": "white",
           "lakecolor": "white",
           "landcolor": "#E5ECF6",
           "showlakes": true,
           "showland": true,
           "subunitcolor": "white"
          },
          "hoverlabel": {
           "align": "left"
          },
          "hovermode": "closest",
          "mapbox": {
           "style": "light"
          },
          "paper_bgcolor": "white",
          "plot_bgcolor": "#E5ECF6",
          "polar": {
           "angularaxis": {
            "gridcolor": "white",
            "linecolor": "white",
            "ticks": ""
           },
           "bgcolor": "#E5ECF6",
           "radialaxis": {
            "gridcolor": "white",
            "linecolor": "white",
            "ticks": ""
           }
          },
          "scene": {
           "xaxis": {
            "backgroundcolor": "#E5ECF6",
            "gridcolor": "white",
            "gridwidth": 2,
            "linecolor": "white",
            "showbackground": true,
            "ticks": "",
            "zerolinecolor": "white"
           },
           "yaxis": {
            "backgroundcolor": "#E5ECF6",
            "gridcolor": "white",
            "gridwidth": 2,
            "linecolor": "white",
            "showbackground": true,
            "ticks": "",
            "zerolinecolor": "white"
           },
           "zaxis": {
            "backgroundcolor": "#E5ECF6",
            "gridcolor": "white",
            "gridwidth": 2,
            "linecolor": "white",
            "showbackground": true,
            "ticks": "",
            "zerolinecolor": "white"
           }
          },
          "shapedefaults": {
           "line": {
            "color": "#2a3f5f"
           }
          },
          "ternary": {
           "aaxis": {
            "gridcolor": "white",
            "linecolor": "white",
            "ticks": ""
           },
           "baxis": {
            "gridcolor": "white",
            "linecolor": "white",
            "ticks": ""
           },
           "bgcolor": "#E5ECF6",
           "caxis": {
            "gridcolor": "white",
            "linecolor": "white",
            "ticks": ""
           }
          },
          "title": {
           "x": 0.05
          },
          "xaxis": {
           "automargin": true,
           "gridcolor": "white",
           "linecolor": "white",
           "ticks": "",
           "title": {
            "standoff": 15
           },
           "zerolinecolor": "white",
           "zerolinewidth": 2
          },
          "yaxis": {
           "automargin": true,
           "gridcolor": "white",
           "linecolor": "white",
           "ticks": "",
           "title": {
            "standoff": 15
           },
           "zerolinecolor": "white",
           "zerolinewidth": 2
          }
         }
        }
       }
      }
     },
     "metadata": {},
     "output_type": "display_data"
    }
   ],
   "source": [
    "plot_rate(300)"
   ]
  },
  {
   "cell_type": "code",
   "execution_count": 134,
   "metadata": {},
   "outputs": [
    {
     "data": {
      "text/html": [
       "<div>\n",
       "<style scoped>\n",
       "    .dataframe tbody tr th:only-of-type {\n",
       "        vertical-align: middle;\n",
       "    }\n",
       "\n",
       "    .dataframe tbody tr th {\n",
       "        vertical-align: top;\n",
       "    }\n",
       "\n",
       "    .dataframe thead th {\n",
       "        text-align: right;\n",
       "    }\n",
       "</style>\n",
       "<table border=\"1\" class=\"dataframe\">\n",
       "  <thead>\n",
       "    <tr style=\"text-align: right;\">\n",
       "      <th></th>\n",
       "      <th>Date</th>\n",
       "      <th>Time</th>\n",
       "      <th>Pair</th>\n",
       "      <th>Price</th>\n",
       "    </tr>\n",
       "  </thead>\n",
       "  <tbody>\n",
       "    <tr>\n",
       "      <th>0</th>\n",
       "      <td>10/06/2022</td>\n",
       "      <td>10:32:46</td>\n",
       "      <td>WBTC/USD</td>\n",
       "      <td>20035.210000</td>\n",
       "    </tr>\n",
       "    <tr>\n",
       "      <th>1</th>\n",
       "      <td>10/06/2022</td>\n",
       "      <td>10:32:47</td>\n",
       "      <td>WBTC/USD</td>\n",
       "      <td>20035.170000</td>\n",
       "    </tr>\n",
       "    <tr>\n",
       "      <th>2</th>\n",
       "      <td>10/06/2022</td>\n",
       "      <td>10:32:48</td>\n",
       "      <td>WBTC/USD</td>\n",
       "      <td>20035.050000</td>\n",
       "    </tr>\n",
       "    <tr>\n",
       "      <th>3</th>\n",
       "      <td>10/06/2022</td>\n",
       "      <td>10:32:49</td>\n",
       "      <td>WBTC/USD</td>\n",
       "      <td>20035.000000</td>\n",
       "    </tr>\n",
       "    <tr>\n",
       "      <th>4</th>\n",
       "      <td>10/06/2022</td>\n",
       "      <td>10:32:50</td>\n",
       "      <td>WBTC/USD</td>\n",
       "      <td>20035.000000</td>\n",
       "    </tr>\n",
       "    <tr>\n",
       "      <th>5</th>\n",
       "      <td>10/06/2022</td>\n",
       "      <td>10:32:51</td>\n",
       "      <td>WBTC/USD</td>\n",
       "      <td>20035.050000</td>\n",
       "    </tr>\n",
       "    <tr>\n",
       "      <th>6</th>\n",
       "      <td>10/06/2022</td>\n",
       "      <td>10:32:53</td>\n",
       "      <td>WBTC/USD</td>\n",
       "      <td>20035.070000</td>\n",
       "    </tr>\n",
       "    <tr>\n",
       "      <th>7</th>\n",
       "      <td>10/06/2022</td>\n",
       "      <td>10:32:54</td>\n",
       "      <td>WBTC/USD</td>\n",
       "      <td>20035.790000</td>\n",
       "    </tr>\n",
       "    <tr>\n",
       "      <th>8</th>\n",
       "      <td>10/06/2022</td>\n",
       "      <td>10:32:55</td>\n",
       "      <td>WBTC/USD</td>\n",
       "      <td>20035.070000</td>\n",
       "    </tr>\n",
       "    <tr>\n",
       "      <th>9</th>\n",
       "      <td>10/06/2022</td>\n",
       "      <td>10:32:56</td>\n",
       "      <td>WBTC/USD</td>\n",
       "      <td>20035.000000</td>\n",
       "    </tr>\n",
       "    <tr>\n",
       "      <th>10</th>\n",
       "      <td>10/06/2022</td>\n",
       "      <td>10:32:57</td>\n",
       "      <td>WBTC/USD</td>\n",
       "      <td>20035.000000</td>\n",
       "    </tr>\n",
       "    <tr>\n",
       "      <th>11</th>\n",
       "      <td>10/06/2022</td>\n",
       "      <td>10:32:58</td>\n",
       "      <td>WBTC/USD</td>\n",
       "      <td>20035.000000</td>\n",
       "    </tr>\n",
       "    <tr>\n",
       "      <th>12</th>\n",
       "      <td>10/06/2022</td>\n",
       "      <td>10:32:59</td>\n",
       "      <td>WBTC/USD</td>\n",
       "      <td>20035.000000</td>\n",
       "    </tr>\n",
       "    <tr>\n",
       "      <th>13</th>\n",
       "      <td>10/06/2022</td>\n",
       "      <td>10:33:01</td>\n",
       "      <td>WBTC/USD</td>\n",
       "      <td>20035.500000</td>\n",
       "    </tr>\n",
       "    <tr>\n",
       "      <th>14</th>\n",
       "      <td>10/06/2022</td>\n",
       "      <td>10:33:02</td>\n",
       "      <td>WBTC/USD</td>\n",
       "      <td>20035.000000</td>\n",
       "    </tr>\n",
       "    <tr>\n",
       "      <th>15</th>\n",
       "      <td>10/06/2022</td>\n",
       "      <td>10:33:03</td>\n",
       "      <td>WBTC/USD</td>\n",
       "      <td>20035.000000</td>\n",
       "    </tr>\n",
       "    <tr>\n",
       "      <th>16</th>\n",
       "      <td>10/06/2022</td>\n",
       "      <td>10:33:04</td>\n",
       "      <td>WBTC/USD</td>\n",
       "      <td>20035.000000</td>\n",
       "    </tr>\n",
       "    <tr>\n",
       "      <th>17</th>\n",
       "      <td>10/06/2022</td>\n",
       "      <td>10:33:05</td>\n",
       "      <td>WBTC/USD</td>\n",
       "      <td>20035.000000</td>\n",
       "    </tr>\n",
       "    <tr>\n",
       "      <th>18</th>\n",
       "      <td>10/06/2022</td>\n",
       "      <td>10:33:06</td>\n",
       "      <td>WBTC/USD</td>\n",
       "      <td>20035.110000</td>\n",
       "    </tr>\n",
       "    <tr>\n",
       "      <th>19</th>\n",
       "      <td>10/06/2022</td>\n",
       "      <td>10:33:07</td>\n",
       "      <td>WBTC/USD</td>\n",
       "      <td>20036.970000</td>\n",
       "    </tr>\n",
       "    <tr>\n",
       "      <th>20</th>\n",
       "      <td>10/06/2022</td>\n",
       "      <td>10:33:08</td>\n",
       "      <td>WBTC/USD</td>\n",
       "      <td>20036.970000</td>\n",
       "    </tr>\n",
       "    <tr>\n",
       "      <th>21</th>\n",
       "      <td>10/06/2022</td>\n",
       "      <td>10:33:09</td>\n",
       "      <td>WBTC/USD</td>\n",
       "      <td>20037.510000</td>\n",
       "    </tr>\n",
       "    <tr>\n",
       "      <th>22</th>\n",
       "      <td>10/06/2022</td>\n",
       "      <td>10:33:10</td>\n",
       "      <td>WBTC/USD</td>\n",
       "      <td>20039.270000</td>\n",
       "    </tr>\n",
       "    <tr>\n",
       "      <th>23</th>\n",
       "      <td>10/06/2022</td>\n",
       "      <td>10:33:11</td>\n",
       "      <td>WBTC/USD</td>\n",
       "      <td>20037.760000</td>\n",
       "    </tr>\n",
       "    <tr>\n",
       "      <th>24</th>\n",
       "      <td>10/06/2022</td>\n",
       "      <td>10:33:12</td>\n",
       "      <td>WBTC/USD</td>\n",
       "      <td>20036.380000</td>\n",
       "    </tr>\n",
       "    <tr>\n",
       "      <th>25</th>\n",
       "      <td>10/06/2022</td>\n",
       "      <td>10:33:13</td>\n",
       "      <td>WBTC/USD</td>\n",
       "      <td>20036.910000</td>\n",
       "    </tr>\n",
       "    <tr>\n",
       "      <th>26</th>\n",
       "      <td>10/06/2022</td>\n",
       "      <td>10:33:15</td>\n",
       "      <td>WBTC/USD</td>\n",
       "      <td>20036.030000</td>\n",
       "    </tr>\n",
       "    <tr>\n",
       "      <th>27</th>\n",
       "      <td>10/06/2022</td>\n",
       "      <td>10:33:15</td>\n",
       "      <td>WBTC/USD</td>\n",
       "      <td>20035.230000</td>\n",
       "    </tr>\n",
       "    <tr>\n",
       "      <th>28</th>\n",
       "      <td>10/06/2022</td>\n",
       "      <td>10:33:17</td>\n",
       "      <td>WBTC/USD</td>\n",
       "      <td>20034.830174</td>\n",
       "    </tr>\n",
       "    <tr>\n",
       "      <th>29</th>\n",
       "      <td>10/06/2022</td>\n",
       "      <td>10:33:18</td>\n",
       "      <td>WBTC/USD</td>\n",
       "      <td>20034.830174</td>\n",
       "    </tr>\n",
       "    <tr>\n",
       "      <th>30</th>\n",
       "      <td>10/06/2022</td>\n",
       "      <td>10:33:19</td>\n",
       "      <td>WBTC/USD</td>\n",
       "      <td>20034.830174</td>\n",
       "    </tr>\n",
       "    <tr>\n",
       "      <th>31</th>\n",
       "      <td>10/06/2022</td>\n",
       "      <td>10:33:20</td>\n",
       "      <td>WBTC/USD</td>\n",
       "      <td>20034.830174</td>\n",
       "    </tr>\n",
       "    <tr>\n",
       "      <th>32</th>\n",
       "      <td>10/06/2022</td>\n",
       "      <td>10:33:21</td>\n",
       "      <td>WBTC/USD</td>\n",
       "      <td>20034.830174</td>\n",
       "    </tr>\n",
       "    <tr>\n",
       "      <th>33</th>\n",
       "      <td>10/06/2022</td>\n",
       "      <td>10:33:22</td>\n",
       "      <td>WBTC/USD</td>\n",
       "      <td>20034.830174</td>\n",
       "    </tr>\n",
       "    <tr>\n",
       "      <th>34</th>\n",
       "      <td>10/06/2022</td>\n",
       "      <td>10:33:24</td>\n",
       "      <td>WBTC/USD</td>\n",
       "      <td>20034.830174</td>\n",
       "    </tr>\n",
       "    <tr>\n",
       "      <th>35</th>\n",
       "      <td>10/06/2022</td>\n",
       "      <td>10:33:25</td>\n",
       "      <td>WBTC/USD</td>\n",
       "      <td>20034.830174</td>\n",
       "    </tr>\n",
       "    <tr>\n",
       "      <th>36</th>\n",
       "      <td>10/06/2022</td>\n",
       "      <td>10:33:26</td>\n",
       "      <td>WBTC/USD</td>\n",
       "      <td>20034.830174</td>\n",
       "    </tr>\n",
       "    <tr>\n",
       "      <th>37</th>\n",
       "      <td>10/06/2022</td>\n",
       "      <td>10:33:27</td>\n",
       "      <td>WBTC/USD</td>\n",
       "      <td>20034.830174</td>\n",
       "    </tr>\n",
       "    <tr>\n",
       "      <th>38</th>\n",
       "      <td>10/06/2022</td>\n",
       "      <td>10:33:28</td>\n",
       "      <td>WBTC/USD</td>\n",
       "      <td>20034.830174</td>\n",
       "    </tr>\n",
       "    <tr>\n",
       "      <th>39</th>\n",
       "      <td>10/06/2022</td>\n",
       "      <td>10:33:29</td>\n",
       "      <td>WBTC/USD</td>\n",
       "      <td>20034.830174</td>\n",
       "    </tr>\n",
       "    <tr>\n",
       "      <th>40</th>\n",
       "      <td>10/06/2022</td>\n",
       "      <td>10:33:30</td>\n",
       "      <td>WBTC/USD</td>\n",
       "      <td>20034.830174</td>\n",
       "    </tr>\n",
       "    <tr>\n",
       "      <th>41</th>\n",
       "      <td>10/06/2022</td>\n",
       "      <td>10:33:32</td>\n",
       "      <td>WBTC/USD</td>\n",
       "      <td>20034.830174</td>\n",
       "    </tr>\n",
       "    <tr>\n",
       "      <th>42</th>\n",
       "      <td>10/06/2022</td>\n",
       "      <td>10:33:32</td>\n",
       "      <td>WBTC/USD</td>\n",
       "      <td>20034.830174</td>\n",
       "    </tr>\n",
       "    <tr>\n",
       "      <th>43</th>\n",
       "      <td>10/06/2022</td>\n",
       "      <td>10:33:33</td>\n",
       "      <td>WBTC/USD</td>\n",
       "      <td>20034.830174</td>\n",
       "    </tr>\n",
       "    <tr>\n",
       "      <th>44</th>\n",
       "      <td>10/06/2022</td>\n",
       "      <td>10:33:34</td>\n",
       "      <td>WBTC/USD</td>\n",
       "      <td>20034.830174</td>\n",
       "    </tr>\n",
       "    <tr>\n",
       "      <th>45</th>\n",
       "      <td>10/06/2022</td>\n",
       "      <td>10:33:36</td>\n",
       "      <td>WBTC/USD</td>\n",
       "      <td>20034.830174</td>\n",
       "    </tr>\n",
       "    <tr>\n",
       "      <th>46</th>\n",
       "      <td>10/06/2022</td>\n",
       "      <td>10:33:37</td>\n",
       "      <td>WBTC/USD</td>\n",
       "      <td>20034.830174</td>\n",
       "    </tr>\n",
       "    <tr>\n",
       "      <th>47</th>\n",
       "      <td>10/06/2022</td>\n",
       "      <td>10:33:38</td>\n",
       "      <td>WBTC/USD</td>\n",
       "      <td>20034.830174</td>\n",
       "    </tr>\n",
       "    <tr>\n",
       "      <th>48</th>\n",
       "      <td>10/06/2022</td>\n",
       "      <td>10:33:39</td>\n",
       "      <td>WBTC/USD</td>\n",
       "      <td>20034.830174</td>\n",
       "    </tr>\n",
       "    <tr>\n",
       "      <th>49</th>\n",
       "      <td>10/06/2022</td>\n",
       "      <td>10:33:40</td>\n",
       "      <td>WBTC/USD</td>\n",
       "      <td>20034.830174</td>\n",
       "    </tr>\n",
       "    <tr>\n",
       "      <th>50</th>\n",
       "      <td>10/06/2022</td>\n",
       "      <td>10:33:42</td>\n",
       "      <td>WBTC/USD</td>\n",
       "      <td>20034.830174</td>\n",
       "    </tr>\n",
       "    <tr>\n",
       "      <th>51</th>\n",
       "      <td>10/06/2022</td>\n",
       "      <td>10:33:43</td>\n",
       "      <td>WBTC/USD</td>\n",
       "      <td>20035.010000</td>\n",
       "    </tr>\n",
       "    <tr>\n",
       "      <th>52</th>\n",
       "      <td>10/06/2022</td>\n",
       "      <td>10:33:44</td>\n",
       "      <td>WBTC/USD</td>\n",
       "      <td>20035.000000</td>\n",
       "    </tr>\n",
       "    <tr>\n",
       "      <th>53</th>\n",
       "      <td>10/06/2022</td>\n",
       "      <td>10:33:45</td>\n",
       "      <td>WBTC/USD</td>\n",
       "      <td>20035.000000</td>\n",
       "    </tr>\n",
       "    <tr>\n",
       "      <th>54</th>\n",
       "      <td>10/06/2022</td>\n",
       "      <td>10:33:46</td>\n",
       "      <td>WBTC/USD</td>\n",
       "      <td>20035.000000</td>\n",
       "    </tr>\n",
       "    <tr>\n",
       "      <th>55</th>\n",
       "      <td>10/06/2022</td>\n",
       "      <td>10:33:47</td>\n",
       "      <td>WBTC/USD</td>\n",
       "      <td>20035.000000</td>\n",
       "    </tr>\n",
       "    <tr>\n",
       "      <th>56</th>\n",
       "      <td>10/06/2022</td>\n",
       "      <td>10:33:48</td>\n",
       "      <td>WBTC/USD</td>\n",
       "      <td>20035.000000</td>\n",
       "    </tr>\n",
       "    <tr>\n",
       "      <th>57</th>\n",
       "      <td>10/06/2022</td>\n",
       "      <td>10:33:49</td>\n",
       "      <td>WBTC/USD</td>\n",
       "      <td>20035.000000</td>\n",
       "    </tr>\n",
       "    <tr>\n",
       "      <th>58</th>\n",
       "      <td>10/06/2022</td>\n",
       "      <td>10:33:51</td>\n",
       "      <td>WBTC/USD</td>\n",
       "      <td>20035.000000</td>\n",
       "    </tr>\n",
       "    <tr>\n",
       "      <th>59</th>\n",
       "      <td>10/06/2022</td>\n",
       "      <td>10:33:52</td>\n",
       "      <td>WBTC/USD</td>\n",
       "      <td>20035.000000</td>\n",
       "    </tr>\n",
       "  </tbody>\n",
       "</table>\n",
       "</div>"
      ],
      "text/plain": [
       "          Date      Time      Pair         Price\n",
       "0   10/06/2022  10:32:46  WBTC/USD  20035.210000\n",
       "1   10/06/2022  10:32:47  WBTC/USD  20035.170000\n",
       "2   10/06/2022  10:32:48  WBTC/USD  20035.050000\n",
       "3   10/06/2022  10:32:49  WBTC/USD  20035.000000\n",
       "4   10/06/2022  10:32:50  WBTC/USD  20035.000000\n",
       "5   10/06/2022  10:32:51  WBTC/USD  20035.050000\n",
       "6   10/06/2022  10:32:53  WBTC/USD  20035.070000\n",
       "7   10/06/2022  10:32:54  WBTC/USD  20035.790000\n",
       "8   10/06/2022  10:32:55  WBTC/USD  20035.070000\n",
       "9   10/06/2022  10:32:56  WBTC/USD  20035.000000\n",
       "10  10/06/2022  10:32:57  WBTC/USD  20035.000000\n",
       "11  10/06/2022  10:32:58  WBTC/USD  20035.000000\n",
       "12  10/06/2022  10:32:59  WBTC/USD  20035.000000\n",
       "13  10/06/2022  10:33:01  WBTC/USD  20035.500000\n",
       "14  10/06/2022  10:33:02  WBTC/USD  20035.000000\n",
       "15  10/06/2022  10:33:03  WBTC/USD  20035.000000\n",
       "16  10/06/2022  10:33:04  WBTC/USD  20035.000000\n",
       "17  10/06/2022  10:33:05  WBTC/USD  20035.000000\n",
       "18  10/06/2022  10:33:06  WBTC/USD  20035.110000\n",
       "19  10/06/2022  10:33:07  WBTC/USD  20036.970000\n",
       "20  10/06/2022  10:33:08  WBTC/USD  20036.970000\n",
       "21  10/06/2022  10:33:09  WBTC/USD  20037.510000\n",
       "22  10/06/2022  10:33:10  WBTC/USD  20039.270000\n",
       "23  10/06/2022  10:33:11  WBTC/USD  20037.760000\n",
       "24  10/06/2022  10:33:12  WBTC/USD  20036.380000\n",
       "25  10/06/2022  10:33:13  WBTC/USD  20036.910000\n",
       "26  10/06/2022  10:33:15  WBTC/USD  20036.030000\n",
       "27  10/06/2022  10:33:15  WBTC/USD  20035.230000\n",
       "28  10/06/2022  10:33:17  WBTC/USD  20034.830174\n",
       "29  10/06/2022  10:33:18  WBTC/USD  20034.830174\n",
       "30  10/06/2022  10:33:19  WBTC/USD  20034.830174\n",
       "31  10/06/2022  10:33:20  WBTC/USD  20034.830174\n",
       "32  10/06/2022  10:33:21  WBTC/USD  20034.830174\n",
       "33  10/06/2022  10:33:22  WBTC/USD  20034.830174\n",
       "34  10/06/2022  10:33:24  WBTC/USD  20034.830174\n",
       "35  10/06/2022  10:33:25  WBTC/USD  20034.830174\n",
       "36  10/06/2022  10:33:26  WBTC/USD  20034.830174\n",
       "37  10/06/2022  10:33:27  WBTC/USD  20034.830174\n",
       "38  10/06/2022  10:33:28  WBTC/USD  20034.830174\n",
       "39  10/06/2022  10:33:29  WBTC/USD  20034.830174\n",
       "40  10/06/2022  10:33:30  WBTC/USD  20034.830174\n",
       "41  10/06/2022  10:33:32  WBTC/USD  20034.830174\n",
       "42  10/06/2022  10:33:32  WBTC/USD  20034.830174\n",
       "43  10/06/2022  10:33:33  WBTC/USD  20034.830174\n",
       "44  10/06/2022  10:33:34  WBTC/USD  20034.830174\n",
       "45  10/06/2022  10:33:36  WBTC/USD  20034.830174\n",
       "46  10/06/2022  10:33:37  WBTC/USD  20034.830174\n",
       "47  10/06/2022  10:33:38  WBTC/USD  20034.830174\n",
       "48  10/06/2022  10:33:39  WBTC/USD  20034.830174\n",
       "49  10/06/2022  10:33:40  WBTC/USD  20034.830174\n",
       "50  10/06/2022  10:33:42  WBTC/USD  20034.830174\n",
       "51  10/06/2022  10:33:43  WBTC/USD  20035.010000\n",
       "52  10/06/2022  10:33:44  WBTC/USD  20035.000000\n",
       "53  10/06/2022  10:33:45  WBTC/USD  20035.000000\n",
       "54  10/06/2022  10:33:46  WBTC/USD  20035.000000\n",
       "55  10/06/2022  10:33:47  WBTC/USD  20035.000000\n",
       "56  10/06/2022  10:33:48  WBTC/USD  20035.000000\n",
       "57  10/06/2022  10:33:49  WBTC/USD  20035.000000\n",
       "58  10/06/2022  10:33:51  WBTC/USD  20035.000000\n",
       "59  10/06/2022  10:33:52  WBTC/USD  20035.000000"
      ]
     },
     "execution_count": 134,
     "metadata": {},
     "output_type": "execute_result"
    }
   ],
   "source": [
    "df.head(60)"
   ]
  }
 ],
 "metadata": {
  "kernelspec": {
   "display_name": "Python 3.9.12 ('text-mine')",
   "language": "python",
   "name": "python3"
  },
  "language_info": {
   "codemirror_mode": {
    "name": "ipython",
    "version": 3
   },
   "file_extension": ".py",
   "mimetype": "text/x-python",
   "name": "python",
   "nbconvert_exporter": "python",
   "pygments_lexer": "ipython3",
   "version": "3.9.12"
  },
  "orig_nbformat": 4,
  "vscode": {
   "interpreter": {
    "hash": "49bfe30cab1276d7cdaec0fe8c41c10a580c3d95c7cab70818e52a4afcf45965"
   }
  }
 },
 "nbformat": 4,
 "nbformat_minor": 2
}
